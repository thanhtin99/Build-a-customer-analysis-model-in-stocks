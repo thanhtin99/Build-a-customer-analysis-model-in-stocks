{
  "cells": [
    {
      "cell_type": "code",
      "execution_count": 2,
      "metadata": {
        "id": "fReYigDmAu6G"
      },
      "outputs": [],
      "source": [
        "import pandas as pd\n",
        "import numpy as np\n",
        "import datetime as dt"
      ]
    },
    {
      "cell_type": "code",
      "execution_count": 5,
      "metadata": {},
      "outputs": [
        {
          "data": {
            "text/html": [
              "<div>\n",
              "<style scoped>\n",
              "    .dataframe tbody tr th:only-of-type {\n",
              "        vertical-align: middle;\n",
              "    }\n",
              "\n",
              "    .dataframe tbody tr th {\n",
              "        vertical-align: top;\n",
              "    }\n",
              "\n",
              "    .dataframe thead th {\n",
              "        text-align: right;\n",
              "    }\n",
              "</style>\n",
              "<table border=\"1\" class=\"dataframe\">\n",
              "  <thead>\n",
              "    <tr style=\"text-align: right;\">\n",
              "      <th></th>\n",
              "      <th>Ticker</th>\n",
              "      <th>DTYYYYMMDD</th>\n",
              "      <th>Open</th>\n",
              "      <th>High</th>\n",
              "      <th>Low</th>\n",
              "      <th>Close</th>\n",
              "      <th>Volume</th>\n",
              "    </tr>\n",
              "  </thead>\n",
              "  <tbody>\n",
              "    <tr>\n",
              "      <th>0</th>\n",
              "      <td>AAA</td>\n",
              "      <td>20240701</td>\n",
              "      <td>11050.0</td>\n",
              "      <td>11250.0</td>\n",
              "      <td>11000.0</td>\n",
              "      <td>11200.0</td>\n",
              "      <td>2053100</td>\n",
              "    </tr>\n",
              "    <tr>\n",
              "      <th>1</th>\n",
              "      <td>AAA</td>\n",
              "      <td>20240702</td>\n",
              "      <td>11200.0</td>\n",
              "      <td>11500.0</td>\n",
              "      <td>11150.0</td>\n",
              "      <td>11300.0</td>\n",
              "      <td>3734100</td>\n",
              "    </tr>\n",
              "    <tr>\n",
              "      <th>2</th>\n",
              "      <td>AAA</td>\n",
              "      <td>20240703</td>\n",
              "      <td>11400.0</td>\n",
              "      <td>11550.0</td>\n",
              "      <td>11300.0</td>\n",
              "      <td>11500.0</td>\n",
              "      <td>3246700</td>\n",
              "    </tr>\n",
              "    <tr>\n",
              "      <th>3</th>\n",
              "      <td>AAA</td>\n",
              "      <td>20240704</td>\n",
              "      <td>11500.0</td>\n",
              "      <td>11600.0</td>\n",
              "      <td>11300.0</td>\n",
              "      <td>11400.0</td>\n",
              "      <td>2116600</td>\n",
              "    </tr>\n",
              "    <tr>\n",
              "      <th>4</th>\n",
              "      <td>AAA</td>\n",
              "      <td>20240705</td>\n",
              "      <td>11400.0</td>\n",
              "      <td>11900.0</td>\n",
              "      <td>11400.0</td>\n",
              "      <td>11650.0</td>\n",
              "      <td>11375600</td>\n",
              "    </tr>\n",
              "  </tbody>\n",
              "</table>\n",
              "</div>"
            ],
            "text/plain": [
              "  Ticker  DTYYYYMMDD     Open     High      Low    Close    Volume\n",
              "0    AAA    20240701  11050.0  11250.0  11000.0  11200.0   2053100\n",
              "1    AAA    20240702  11200.0  11500.0  11150.0  11300.0   3734100\n",
              "2    AAA    20240703  11400.0  11550.0  11300.0  11500.0   3246700\n",
              "3    AAA    20240704  11500.0  11600.0  11300.0  11400.0   2116600\n",
              "4    AAA    20240705  11400.0  11900.0  11400.0  11650.0  11375600"
            ]
          },
          "execution_count": 5,
          "metadata": {},
          "output_type": "execute_result"
        }
      ],
      "source": [
        "df = pd.read_csv('all_stock_data.csv')\n",
        "df.head()"
      ]
    },
    {
      "cell_type": "code",
      "execution_count": 16,
      "metadata": {
        "colab": {
          "base_uri": "https://localhost:8080/",
          "height": 307
        },
        "id": "PXVMOjvuFifE",
        "outputId": "9da34950-5643-4d94-9426-dc5360cb28c1"
      },
      "outputs": [
        {
          "data": {
            "application/vnd.google.colaboratory.intrinsic+json": {
              "type": "dataframe",
              "variable_name": "df"
            },
            "text/html": [
              "\n",
              "  <div id=\"df-c0b83c8a-ace6-4dc6-b658-e01b539d6a27\" class=\"colab-df-container\">\n",
              "    <div>\n",
              "<style scoped>\n",
              "    .dataframe tbody tr th:only-of-type {\n",
              "        vertical-align: middle;\n",
              "    }\n",
              "\n",
              "    .dataframe tbody tr th {\n",
              "        vertical-align: top;\n",
              "    }\n",
              "\n",
              "    .dataframe thead th {\n",
              "        text-align: right;\n",
              "    }\n",
              "</style>\n",
              "<table border=\"1\" class=\"dataframe\">\n",
              "  <thead>\n",
              "    <tr style=\"text-align: right;\">\n",
              "      <th></th>\n",
              "      <th>Mã CK</th>\n",
              "      <th>Đóng cửa</th>\n",
              "      <th>Trần</th>\n",
              "      <th>Sàn</th>\n",
              "      <th>Giá 3 Mua</th>\n",
              "      <th>KL 3 Mua</th>\n",
              "      <th>Giá 2 Mua</th>\n",
              "      <th>KL 2 Mua</th>\n",
              "      <th>Giá 1 Mua</th>\n",
              "      <th>KL 1 Mua</th>\n",
              "      <th>...</th>\n",
              "      <th>Tỷ lệ thay đổi</th>\n",
              "      <th>Giá 1 Bán</th>\n",
              "      <th>KL 1 Bán</th>\n",
              "      <th>Giá 2 Bán</th>\n",
              "      <th>KL 2 Bán</th>\n",
              "      <th>Giá 3 Bán</th>\n",
              "      <th>KL 3 Bán</th>\n",
              "      <th>TKL đã khớp</th>\n",
              "      <th>KL NN mua</th>\n",
              "      <th>KL NN bán</th>\n",
              "    </tr>\n",
              "  </thead>\n",
              "  <tbody>\n",
              "    <tr>\n",
              "      <th>0</th>\n",
              "      <td>AAA</td>\n",
              "      <td>10,30</td>\n",
              "      <td>11,00</td>\n",
              "      <td>9,58</td>\n",
              "      <td>10,25</td>\n",
              "      <td>1.538</td>\n",
              "      <td>10,30</td>\n",
              "      <td>4.83</td>\n",
              "      <td>10,35</td>\n",
              "      <td>1.691</td>\n",
              "      <td>...</td>\n",
              "      <td>0,49</td>\n",
              "      <td>10,40</td>\n",
              "      <td>262.0</td>\n",
              "      <td>10,45</td>\n",
              "      <td>453.0</td>\n",
              "      <td>10,50</td>\n",
              "      <td>790.0</td>\n",
              "      <td>66.306</td>\n",
              "      <td>1.573</td>\n",
              "      <td>1.051</td>\n",
              "    </tr>\n",
              "    <tr>\n",
              "      <th>1</th>\n",
              "      <td>AAM</td>\n",
              "      <td>7,46</td>\n",
              "      <td>7,98</td>\n",
              "      <td>6,94</td>\n",
              "      <td>7,10</td>\n",
              "      <td>1.000</td>\n",
              "      <td>7,15</td>\n",
              "      <td>2.00</td>\n",
              "      <td>7,46</td>\n",
              "      <td>1.000</td>\n",
              "      <td>...</td>\n",
              "      <td>0,00</td>\n",
              "      <td>7,68</td>\n",
              "      <td>1.0</td>\n",
              "      <td>7,69</td>\n",
              "      <td>5.0</td>\n",
              "      <td>7,70</td>\n",
              "      <td>20.0</td>\n",
              "      <td>17.000</td>\n",
              "      <td>NaN</td>\n",
              "      <td>NaN</td>\n",
              "    </tr>\n",
              "    <tr>\n",
              "      <th>2</th>\n",
              "      <td>AAT</td>\n",
              "      <td>3,47</td>\n",
              "      <td>3,71</td>\n",
              "      <td>3,23</td>\n",
              "      <td>3,42</td>\n",
              "      <td>6.000</td>\n",
              "      <td>3,43</td>\n",
              "      <td>9.00</td>\n",
              "      <td>3,45</td>\n",
              "      <td>9.000</td>\n",
              "      <td>...</td>\n",
              "      <td>0,00</td>\n",
              "      <td>3,47</td>\n",
              "      <td>10.0</td>\n",
              "      <td>3,48</td>\n",
              "      <td>20.0</td>\n",
              "      <td>3,50</td>\n",
              "      <td>320.0</td>\n",
              "      <td>222.000</td>\n",
              "      <td>NaN</td>\n",
              "      <td>NaN</td>\n",
              "    </tr>\n",
              "    <tr>\n",
              "      <th>3</th>\n",
              "      <td>ABR</td>\n",
              "      <td>12,40</td>\n",
              "      <td>13,25</td>\n",
              "      <td>11,55</td>\n",
              "      <td>NaN</td>\n",
              "      <td>NaN</td>\n",
              "      <td>11,55</td>\n",
              "      <td>1.00</td>\n",
              "      <td>11,70</td>\n",
              "      <td>2.000</td>\n",
              "      <td>...</td>\n",
              "      <td>0,00</td>\n",
              "      <td>12,40</td>\n",
              "      <td>38.0</td>\n",
              "      <td>12,45</td>\n",
              "      <td>20.0</td>\n",
              "      <td>12,60</td>\n",
              "      <td>9.0</td>\n",
              "      <td>1.000</td>\n",
              "      <td>NaN</td>\n",
              "      <td>NaN</td>\n",
              "    </tr>\n",
              "    <tr>\n",
              "      <th>4</th>\n",
              "      <td>ABS</td>\n",
              "      <td>4,28</td>\n",
              "      <td>4,57</td>\n",
              "      <td>3,99</td>\n",
              "      <td>4,28</td>\n",
              "      <td>64.000</td>\n",
              "      <td>4,29</td>\n",
              "      <td>231.00</td>\n",
              "      <td>4,30</td>\n",
              "      <td>468.000</td>\n",
              "      <td>...</td>\n",
              "      <td>0,47</td>\n",
              "      <td>4,32</td>\n",
              "      <td>9.0</td>\n",
              "      <td>4,33</td>\n",
              "      <td>43.0</td>\n",
              "      <td>4,34</td>\n",
              "      <td>72.0</td>\n",
              "      <td>1.282</td>\n",
              "      <td>NaN</td>\n",
              "      <td>NaN</td>\n",
              "    </tr>\n",
              "  </tbody>\n",
              "</table>\n",
              "<p>5 rows × 23 columns</p>\n",
              "</div>\n",
              "    <div class=\"colab-df-buttons\">\n",
              "\n",
              "  <div class=\"colab-df-container\">\n",
              "    <button class=\"colab-df-convert\" onclick=\"convertToInteractive('df-c0b83c8a-ace6-4dc6-b658-e01b539d6a27')\"\n",
              "            title=\"Convert this dataframe to an interactive table.\"\n",
              "            style=\"display:none;\">\n",
              "\n",
              "  <svg xmlns=\"http://www.w3.org/2000/svg\" height=\"24px\" viewBox=\"0 -960 960 960\">\n",
              "    <path d=\"M120-120v-720h720v720H120Zm60-500h600v-160H180v160Zm220 220h160v-160H400v160Zm0 220h160v-160H400v160ZM180-400h160v-160H180v160Zm440 0h160v-160H620v160ZM180-180h160v-160H180v160Zm440 0h160v-160H620v160Z\"/>\n",
              "  </svg>\n",
              "    </button>\n",
              "\n",
              "  <style>\n",
              "    .colab-df-container {\n",
              "      display:flex;\n",
              "      gap: 12px;\n",
              "    }\n",
              "\n",
              "    .colab-df-convert {\n",
              "      background-color: #E8F0FE;\n",
              "      border: none;\n",
              "      border-radius: 50%;\n",
              "      cursor: pointer;\n",
              "      display: none;\n",
              "      fill: #1967D2;\n",
              "      height: 32px;\n",
              "      padding: 0 0 0 0;\n",
              "      width: 32px;\n",
              "    }\n",
              "\n",
              "    .colab-df-convert:hover {\n",
              "      background-color: #E2EBFA;\n",
              "      box-shadow: 0px 1px 2px rgba(60, 64, 67, 0.3), 0px 1px 3px 1px rgba(60, 64, 67, 0.15);\n",
              "      fill: #174EA6;\n",
              "    }\n",
              "\n",
              "    .colab-df-buttons div {\n",
              "      margin-bottom: 4px;\n",
              "    }\n",
              "\n",
              "    [theme=dark] .colab-df-convert {\n",
              "      background-color: #3B4455;\n",
              "      fill: #D2E3FC;\n",
              "    }\n",
              "\n",
              "    [theme=dark] .colab-df-convert:hover {\n",
              "      background-color: #434B5C;\n",
              "      box-shadow: 0px 1px 3px 1px rgba(0, 0, 0, 0.15);\n",
              "      filter: drop-shadow(0px 1px 2px rgba(0, 0, 0, 0.3));\n",
              "      fill: #FFFFFF;\n",
              "    }\n",
              "  </style>\n",
              "\n",
              "    <script>\n",
              "      const buttonEl =\n",
              "        document.querySelector('#df-c0b83c8a-ace6-4dc6-b658-e01b539d6a27 button.colab-df-convert');\n",
              "      buttonEl.style.display =\n",
              "        google.colab.kernel.accessAllowed ? 'block' : 'none';\n",
              "\n",
              "      async function convertToInteractive(key) {\n",
              "        const element = document.querySelector('#df-c0b83c8a-ace6-4dc6-b658-e01b539d6a27');\n",
              "        const dataTable =\n",
              "          await google.colab.kernel.invokeFunction('convertToInteractive',\n",
              "                                                    [key], {});\n",
              "        if (!dataTable) return;\n",
              "\n",
              "        const docLinkHtml = 'Like what you see? Visit the ' +\n",
              "          '<a target=\"_blank\" href=https://colab.research.google.com/notebooks/data_table.ipynb>data table notebook</a>'\n",
              "          + ' to learn more about interactive tables.';\n",
              "        element.innerHTML = '';\n",
              "        dataTable['output_type'] = 'display_data';\n",
              "        await google.colab.output.renderOutput(dataTable, element);\n",
              "        const docLink = document.createElement('div');\n",
              "        docLink.innerHTML = docLinkHtml;\n",
              "        element.appendChild(docLink);\n",
              "      }\n",
              "    </script>\n",
              "  </div>\n",
              "\n",
              "\n",
              "<div id=\"df-9bb27f48-6d92-4faf-b362-a893d8714eb2\">\n",
              "  <button class=\"colab-df-quickchart\" onclick=\"quickchart('df-9bb27f48-6d92-4faf-b362-a893d8714eb2')\"\n",
              "            title=\"Suggest charts\"\n",
              "            style=\"display:none;\">\n",
              "\n",
              "<svg xmlns=\"http://www.w3.org/2000/svg\" height=\"24px\"viewBox=\"0 0 24 24\"\n",
              "     width=\"24px\">\n",
              "    <g>\n",
              "        <path d=\"M19 3H5c-1.1 0-2 .9-2 2v14c0 1.1.9 2 2 2h14c1.1 0 2-.9 2-2V5c0-1.1-.9-2-2-2zM9 17H7v-7h2v7zm4 0h-2V7h2v10zm4 0h-2v-4h2v4z\"/>\n",
              "    </g>\n",
              "</svg>\n",
              "  </button>\n",
              "\n",
              "<style>\n",
              "  .colab-df-quickchart {\n",
              "      --bg-color: #E8F0FE;\n",
              "      --fill-color: #1967D2;\n",
              "      --hover-bg-color: #E2EBFA;\n",
              "      --hover-fill-color: #174EA6;\n",
              "      --disabled-fill-color: #AAA;\n",
              "      --disabled-bg-color: #DDD;\n",
              "  }\n",
              "\n",
              "  [theme=dark] .colab-df-quickchart {\n",
              "      --bg-color: #3B4455;\n",
              "      --fill-color: #D2E3FC;\n",
              "      --hover-bg-color: #434B5C;\n",
              "      --hover-fill-color: #FFFFFF;\n",
              "      --disabled-bg-color: #3B4455;\n",
              "      --disabled-fill-color: #666;\n",
              "  }\n",
              "\n",
              "  .colab-df-quickchart {\n",
              "    background-color: var(--bg-color);\n",
              "    border: none;\n",
              "    border-radius: 50%;\n",
              "    cursor: pointer;\n",
              "    display: none;\n",
              "    fill: var(--fill-color);\n",
              "    height: 32px;\n",
              "    padding: 0;\n",
              "    width: 32px;\n",
              "  }\n",
              "\n",
              "  .colab-df-quickchart:hover {\n",
              "    background-color: var(--hover-bg-color);\n",
              "    box-shadow: 0 1px 2px rgba(60, 64, 67, 0.3), 0 1px 3px 1px rgba(60, 64, 67, 0.15);\n",
              "    fill: var(--button-hover-fill-color);\n",
              "  }\n",
              "\n",
              "  .colab-df-quickchart-complete:disabled,\n",
              "  .colab-df-quickchart-complete:disabled:hover {\n",
              "    background-color: var(--disabled-bg-color);\n",
              "    fill: var(--disabled-fill-color);\n",
              "    box-shadow: none;\n",
              "  }\n",
              "\n",
              "  .colab-df-spinner {\n",
              "    border: 2px solid var(--fill-color);\n",
              "    border-color: transparent;\n",
              "    border-bottom-color: var(--fill-color);\n",
              "    animation:\n",
              "      spin 1s steps(1) infinite;\n",
              "  }\n",
              "\n",
              "  @keyframes spin {\n",
              "    0% {\n",
              "      border-color: transparent;\n",
              "      border-bottom-color: var(--fill-color);\n",
              "      border-left-color: var(--fill-color);\n",
              "    }\n",
              "    20% {\n",
              "      border-color: transparent;\n",
              "      border-left-color: var(--fill-color);\n",
              "      border-top-color: var(--fill-color);\n",
              "    }\n",
              "    30% {\n",
              "      border-color: transparent;\n",
              "      border-left-color: var(--fill-color);\n",
              "      border-top-color: var(--fill-color);\n",
              "      border-right-color: var(--fill-color);\n",
              "    }\n",
              "    40% {\n",
              "      border-color: transparent;\n",
              "      border-right-color: var(--fill-color);\n",
              "      border-top-color: var(--fill-color);\n",
              "    }\n",
              "    60% {\n",
              "      border-color: transparent;\n",
              "      border-right-color: var(--fill-color);\n",
              "    }\n",
              "    80% {\n",
              "      border-color: transparent;\n",
              "      border-right-color: var(--fill-color);\n",
              "      border-bottom-color: var(--fill-color);\n",
              "    }\n",
              "    90% {\n",
              "      border-color: transparent;\n",
              "      border-bottom-color: var(--fill-color);\n",
              "    }\n",
              "  }\n",
              "</style>\n",
              "\n",
              "  <script>\n",
              "    async function quickchart(key) {\n",
              "      const quickchartButtonEl =\n",
              "        document.querySelector('#' + key + ' button');\n",
              "      quickchartButtonEl.disabled = true;  // To prevent multiple clicks.\n",
              "      quickchartButtonEl.classList.add('colab-df-spinner');\n",
              "      try {\n",
              "        const charts = await google.colab.kernel.invokeFunction(\n",
              "            'suggestCharts', [key], {});\n",
              "      } catch (error) {\n",
              "        console.error('Error during call to suggestCharts:', error);\n",
              "      }\n",
              "      quickchartButtonEl.classList.remove('colab-df-spinner');\n",
              "      quickchartButtonEl.classList.add('colab-df-quickchart-complete');\n",
              "    }\n",
              "    (() => {\n",
              "      let quickchartButtonEl =\n",
              "        document.querySelector('#df-9bb27f48-6d92-4faf-b362-a893d8714eb2 button');\n",
              "      quickchartButtonEl.style.display =\n",
              "        google.colab.kernel.accessAllowed ? 'block' : 'none';\n",
              "    })();\n",
              "  </script>\n",
              "</div>\n",
              "\n",
              "    </div>\n",
              "  </div>\n"
            ],
            "text/plain": [
              "  Mã CK Đóng cửa   Trần    Sàn Giá 3 Mua  KL 3 Mua Giá 2 Mua  KL 2 Mua  \\\n",
              "0   AAA    10,30  11,00   9,58     10,25     1.538     10,30      4.83   \n",
              "1   AAM     7,46   7,98   6,94      7,10     1.000      7,15      2.00   \n",
              "2   AAT     3,47   3,71   3,23      3,42     6.000      3,43      9.00   \n",
              "3   ABR    12,40  13,25  11,55       NaN       NaN     11,55      1.00   \n",
              "4   ABS     4,28   4,57   3,99      4,28    64.000      4,29    231.00   \n",
              "\n",
              "  Giá 1 Mua  KL 1 Mua  ... Tỷ lệ thay đổi  Giá 1 Bán KL 1 Bán Giá 2 Bán  \\\n",
              "0     10,35     1.691  ...           0,49      10,40    262.0     10,45   \n",
              "1      7,46     1.000  ...           0,00       7,68      1.0      7,69   \n",
              "2      3,45     9.000  ...           0,00       3,47     10.0      3,48   \n",
              "3     11,70     2.000  ...           0,00      12,40     38.0     12,45   \n",
              "4      4,30   468.000  ...           0,47       4,32      9.0      4,33   \n",
              "\n",
              "  KL 2 Bán  Giá 3 Bán KL 3 Bán  TKL đã khớp KL NN mua  KL NN bán  \n",
              "0    453.0      10,50    790.0       66.306     1.573      1.051  \n",
              "1      5.0       7,70     20.0       17.000       NaN        NaN  \n",
              "2     20.0       3,50    320.0      222.000       NaN        NaN  \n",
              "3     20.0      12,60      9.0        1.000       NaN        NaN  \n",
              "4     43.0       4,34     72.0        1.282       NaN        NaN  \n",
              "\n",
              "[5 rows x 23 columns]"
            ]
          },
          "execution_count": 16,
          "metadata": {},
          "output_type": "execute_result"
        }
      ],
      "source": [
        "df = pd.read_csv(r'/content/sample_data/stock_data.csv')\n",
        "df.head()"
      ]
    },
    {
      "cell_type": "code",
      "execution_count": 10,
      "metadata": {
        "colab": {
          "base_uri": "https://localhost:8080/"
        },
        "id": "cKpuKvSWCqww",
        "outputId": "85dabcb9-cc39-4ee1-c795-f874bd9a6249"
      },
      "outputs": [
        {
          "name": "stdout",
          "output_type": "stream",
          "text": [
            "Requirement already satisfied: yfinance in /usr/local/lib/python3.10/dist-packages (0.2.41)\n",
            "Requirement already satisfied: pandas>=1.3.0 in /usr/local/lib/python3.10/dist-packages (from yfinance) (2.1.4)\n",
            "Requirement already satisfied: numpy>=1.16.5 in /usr/local/lib/python3.10/dist-packages (from yfinance) (1.26.4)\n",
            "Requirement already satisfied: requests>=2.31 in /usr/local/lib/python3.10/dist-packages (from yfinance) (2.32.3)\n",
            "Requirement already satisfied: multitasking>=0.0.7 in /usr/local/lib/python3.10/dist-packages (from yfinance) (0.0.11)\n",
            "Requirement already satisfied: lxml>=4.9.1 in /usr/local/lib/python3.10/dist-packages (from yfinance) (4.9.4)\n",
            "Requirement already satisfied: platformdirs>=2.0.0 in /usr/local/lib/python3.10/dist-packages (from yfinance) (4.2.2)\n",
            "Requirement already satisfied: pytz>=2022.5 in /usr/local/lib/python3.10/dist-packages (from yfinance) (2024.1)\n",
            "Requirement already satisfied: frozendict>=2.3.4 in /usr/local/lib/python3.10/dist-packages (from yfinance) (2.4.4)\n",
            "Requirement already satisfied: peewee>=3.16.2 in /usr/local/lib/python3.10/dist-packages (from yfinance) (3.17.6)\n",
            "Requirement already satisfied: beautifulsoup4>=4.11.1 in /usr/local/lib/python3.10/dist-packages (from yfinance) (4.12.3)\n",
            "Requirement already satisfied: html5lib>=1.1 in /usr/local/lib/python3.10/dist-packages (from yfinance) (1.1)\n",
            "Requirement already satisfied: soupsieve>1.2 in /usr/local/lib/python3.10/dist-packages (from beautifulsoup4>=4.11.1->yfinance) (2.5)\n",
            "Requirement already satisfied: six>=1.9 in /usr/local/lib/python3.10/dist-packages (from html5lib>=1.1->yfinance) (1.16.0)\n",
            "Requirement already satisfied: webencodings in /usr/local/lib/python3.10/dist-packages (from html5lib>=1.1->yfinance) (0.5.1)\n",
            "Requirement already satisfied: python-dateutil>=2.8.2 in /usr/local/lib/python3.10/dist-packages (from pandas>=1.3.0->yfinance) (2.8.2)\n",
            "Requirement already satisfied: tzdata>=2022.1 in /usr/local/lib/python3.10/dist-packages (from pandas>=1.3.0->yfinance) (2024.1)\n",
            "Requirement already satisfied: charset-normalizer<4,>=2 in /usr/local/lib/python3.10/dist-packages (from requests>=2.31->yfinance) (3.3.2)\n",
            "Requirement already satisfied: idna<4,>=2.5 in /usr/local/lib/python3.10/dist-packages (from requests>=2.31->yfinance) (3.7)\n",
            "Requirement already satisfied: urllib3<3,>=1.21.1 in /usr/local/lib/python3.10/dist-packages (from requests>=2.31->yfinance) (2.0.7)\n",
            "Requirement already satisfied: certifi>=2017.4.17 in /usr/local/lib/python3.10/dist-packages (from requests>=2.31->yfinance) (2024.7.4)\n"
          ]
        }
      ],
      "source": [
        "!pip install yfinance"
      ]
    },
    {
      "cell_type": "code",
      "execution_count": 15,
      "metadata": {
        "colab": {
          "base_uri": "https://localhost:8080/"
        },
        "id": "DSyF6m_0EVtk",
        "outputId": "8a3e02c4-ea95-49cf-ff3e-8fa7ae7cbfe3"
      },
      "outputs": [
        {
          "name": "stderr",
          "output_type": "stream",
          "text": [
            "\r[*********************100%%**********************]  1 of 1 completed"
          ]
        },
        {
          "name": "stdout",
          "output_type": "stream",
          "text": [
            "Dữ liệu đã được lưu vào file CSV thành công!\n"
          ]
        },
        {
          "name": "stderr",
          "output_type": "stream",
          "text": [
            "\n"
          ]
        }
      ],
      "source": [
        "\n",
        "import yfinance as yf\n",
        "\n",
        "# Thu thập với 1 mã cổ phiếu \n",
        "start = \"2024-07-01\"  \n",
        "end  = dt.datetime.now().strftime(\"%Y-%m-%d\") \n",
        "\n",
        "company = \"AAA.VN\"\n",
        "CTG = yf.download(company, start=start, end=end)\n",
        "\n",
        "CTG.to_csv(f'{company}_historical_data.csv')\n",
        "\n",
        "print(\"Dữ liệu đã được lưu vào file CSV thành công!\")\n"
      ]
    },
    {
      "cell_type": "code",
      "execution_count": 20,
      "metadata": {
        "colab": {
          "base_uri": "https://localhost:8080/"
        },
        "id": "i7R2pKrTHQaz",
        "outputId": "c27e25e6-0f58-400c-ea32-342a5d0e49fd"
      },
      "outputs": [
        {
          "name": "stderr",
          "output_type": "stream",
          "text": [
            "\r[*********************100%%**********************]  1 of 1 completed"
          ]
        },
        {
          "name": "stdout",
          "output_type": "stream",
          "text": [
            "Đang thu thập dữ liệu cho AAA\n",
            "Dữ liệu cho AAA đã được thêm vào DataFrame\n",
            "Đang thu thập dữ liệu cho AAM\n"
          ]
        },
        {
          "name": "stderr",
          "output_type": "stream",
          "text": [
            "\n",
            "[*********************100%%**********************]  1 of 1 completed\n",
            "[*********************100%%**********************]  1 of 1 completed\n",
            "[*********************100%%**********************]  1 of 1 completed\n"
          ]
        },
        {
          "name": "stdout",
          "output_type": "stream",
          "text": [
            "Dữ liệu cho AAM đã được thêm vào DataFrame\n",
            "Đang thu thập dữ liệu cho AAT\n",
            "Dữ liệu cho AAT đã được thêm vào DataFrame\n",
            "Đang thu thập dữ liệu cho ABR\n",
            "Dữ liệu cho ABR đã được thêm vào DataFrame\n",
            "Đang thu thập dữ liệu cho ABS\n"
          ]
        },
        {
          "name": "stderr",
          "output_type": "stream",
          "text": [
            "[*********************100%%**********************]  1 of 1 completed\n",
            "[*********************100%%**********************]  1 of 1 completed\n",
            "[*********************100%%**********************]  1 of 1 completed\n"
          ]
        },
        {
          "name": "stdout",
          "output_type": "stream",
          "text": [
            "Dữ liệu cho ABS đã được thêm vào DataFrame\n",
            "Đang thu thập dữ liệu cho ABT\n",
            "Dữ liệu cho ABT đã được thêm vào DataFrame\n",
            "Đang thu thập dữ liệu cho ACB\n",
            "Dữ liệu cho ACB đã được thêm vào DataFrame\n",
            "Đang thu thập dữ liệu cho ACC\n"
          ]
        },
        {
          "name": "stderr",
          "output_type": "stream",
          "text": [
            "[*********************100%%**********************]  1 of 1 completed\n",
            "[*********************100%%**********************]  1 of 1 completed\n",
            "[*********************100%%**********************]  1 of 1 completed\n"
          ]
        },
        {
          "name": "stdout",
          "output_type": "stream",
          "text": [
            "Dữ liệu cho ACC đã được thêm vào DataFrame\n",
            "Đang thu thập dữ liệu cho ACG\n",
            "Dữ liệu cho ACG đã được thêm vào DataFrame\n",
            "Đang thu thập dữ liệu cho ACL\n",
            "Dữ liệu cho ACL đã được thêm vào DataFrame\n",
            "Đang thu thập dữ liệu cho ADG\n"
          ]
        },
        {
          "name": "stderr",
          "output_type": "stream",
          "text": [
            "[*********************100%%**********************]  1 of 1 completed\n",
            "[*********************100%%**********************]  1 of 1 completed\n",
            "[*********************100%%**********************]  1 of 1 completed\n"
          ]
        },
        {
          "name": "stdout",
          "output_type": "stream",
          "text": [
            "Dữ liệu cho ADG đã được thêm vào DataFrame\n",
            "Đang thu thập dữ liệu cho ADP\n",
            "Dữ liệu cho ADP đã được thêm vào DataFrame\n",
            "Đang thu thập dữ liệu cho ADS\n",
            "Dữ liệu cho ADS đã được thêm vào DataFrame\n",
            "Đang thu thập dữ liệu cho AGG\n"
          ]
        },
        {
          "name": "stderr",
          "output_type": "stream",
          "text": [
            "[*********************100%%**********************]  1 of 1 completed\n",
            "[*********************100%%**********************]  1 of 1 completed\n",
            "[*********************100%%**********************]  1 of 1 completed\n"
          ]
        },
        {
          "name": "stdout",
          "output_type": "stream",
          "text": [
            "Dữ liệu cho AGG đã được thêm vào DataFrame\n",
            "Đang thu thập dữ liệu cho AGM\n",
            "Dữ liệu cho AGM đã được thêm vào DataFrame\n",
            "Đang thu thập dữ liệu cho AGR\n",
            "Dữ liệu cho AGR đã được thêm vào DataFrame"
          ]
        },
        {
          "name": "stderr",
          "output_type": "stream",
          "text": [
            "[*********************100%%**********************]  1 of 1 completed\n",
            "[*********************100%%**********************]  1 of 1 completed\n"
          ]
        },
        {
          "name": "stdout",
          "output_type": "stream",
          "text": [
            "\n",
            "Đang thu thập dữ liệu cho ANV\n",
            "Dữ liệu cho ANV đã được thêm vào DataFrame\n",
            "Đang thu thập dữ liệu cho APG\n",
            "Dữ liệu cho APG đã được thêm vào DataFrame\n",
            "Đang thu thập dữ liệu cho APH\n"
          ]
        },
        {
          "name": "stderr",
          "output_type": "stream",
          "text": [
            "[*********************100%%**********************]  1 of 1 completed\n",
            "[*********************100%%**********************]  1 of 1 completed\n",
            "[*********************100%%**********************]  1 of 1 completed\n"
          ]
        },
        {
          "name": "stdout",
          "output_type": "stream",
          "text": [
            "Dữ liệu cho APH đã được thêm vào DataFrame\n",
            "Đang thu thập dữ liệu cho ASG\n",
            "Dữ liệu cho ASG đã được thêm vào DataFrame\n",
            "Đang thu thập dữ liệu cho ASM\n",
            "Dữ liệu cho ASM đã được thêm vào DataFrame\n",
            "Đang thu thập dữ liệu cho ASP\n"
          ]
        },
        {
          "name": "stderr",
          "output_type": "stream",
          "text": [
            "[*********************100%%**********************]  1 of 1 completed\n",
            "[*********************100%%**********************]  1 of 1 completed\n",
            "[*********************100%%**********************]  1 of 1 completed\n"
          ]
        },
        {
          "name": "stdout",
          "output_type": "stream",
          "text": [
            "Dữ liệu cho ASP đã được thêm vào DataFrame\n",
            "Đang thu thập dữ liệu cho AST\n",
            "Dữ liệu cho AST đã được thêm vào DataFrame\n",
            "Đang thu thập dữ liệu cho BAF\n",
            "Dữ liệu cho BAF đã được thêm vào DataFrame\n",
            "Đang thu thập dữ liệu cho BBC\n"
          ]
        },
        {
          "name": "stderr",
          "output_type": "stream",
          "text": [
            "[*********************100%%**********************]  1 of 1 completed\n",
            "[*********************100%%**********************]  1 of 1 completed\n",
            "[*********************100%%**********************]  1 of 1 completed\n"
          ]
        },
        {
          "name": "stdout",
          "output_type": "stream",
          "text": [
            "Dữ liệu cho BBC đã được thêm vào DataFrame\n",
            "Đang thu thập dữ liệu cho BCE\n",
            "Dữ liệu cho BCE đã được thêm vào DataFrame\n",
            "Đang thu thập dữ liệu cho BCG\n",
            "Dữ liệu cho BCG đã được thêm vào DataFrame\n",
            "Đang thu thập dữ liệu cho BCM\n"
          ]
        },
        {
          "name": "stderr",
          "output_type": "stream",
          "text": [
            "[*********************100%%**********************]  1 of 1 completed\n",
            "[*********************100%%**********************]  1 of 1 completed\n",
            "[*********************100%%**********************]  1 of 1 completed\n"
          ]
        },
        {
          "name": "stdout",
          "output_type": "stream",
          "text": [
            "Dữ liệu cho BCM đã được thêm vào DataFrame\n",
            "Đang thu thập dữ liệu cho BFC\n",
            "Dữ liệu cho BFC đã được thêm vào DataFrame\n",
            "Đang thu thập dữ liệu cho BHN\n",
            "Dữ liệu cho BHN đã được thêm vào DataFrame\n",
            "Đang thu thập dữ liệu cho BIC\n"
          ]
        },
        {
          "name": "stderr",
          "output_type": "stream",
          "text": [
            "[*********************100%%**********************]  1 of 1 completed\n",
            "[*********************100%%**********************]  1 of 1 completed\n",
            "[*********************100%%**********************]  1 of 1 completed\n"
          ]
        },
        {
          "name": "stdout",
          "output_type": "stream",
          "text": [
            "Dữ liệu cho BIC đã được thêm vào DataFrame\n",
            "Đang thu thập dữ liệu cho BID\n",
            "Dữ liệu cho BID đã được thêm vào DataFrame\n",
            "Đang thu thập dữ liệu cho BKG\n",
            "Dữ liệu cho BKG đã được thêm vào DataFrame\n",
            "Đang thu thập dữ liệu cho BMC\n"
          ]
        },
        {
          "name": "stderr",
          "output_type": "stream",
          "text": [
            "[*********************100%%**********************]  1 of 1 completed\n",
            "[*********************100%%**********************]  1 of 1 completed\n",
            "[*********************100%%**********************]  1 of 1 completed\n"
          ]
        },
        {
          "name": "stdout",
          "output_type": "stream",
          "text": [
            "Dữ liệu cho BMC đã được thêm vào DataFrame\n",
            "Đang thu thập dữ liệu cho BMI\n",
            "Dữ liệu cho BMI đã được thêm vào DataFrame\n",
            "Đang thu thập dữ liệu cho BMP\n",
            "Dữ liệu cho BMP đã được thêm vào DataFrame\n",
            "Đang thu thập dữ liệu cho BRC\n"
          ]
        },
        {
          "name": "stderr",
          "output_type": "stream",
          "text": [
            "[*********************100%%**********************]  1 of 1 completed\n",
            "[*********************100%%**********************]  1 of 1 completed\n",
            "[*********************100%%**********************]  1 of 1 completed\n"
          ]
        },
        {
          "name": "stdout",
          "output_type": "stream",
          "text": [
            "Dữ liệu cho BRC đã được thêm vào DataFrame\n",
            "Đang thu thập dữ liệu cho BSI\n",
            "Dữ liệu cho BSI đã được thêm vào DataFrame\n",
            "Đang thu thập dữ liệu cho BTP\n",
            "Dữ liệu cho BTP đã được thêm vào DataFrame\n",
            "Đang thu thập dữ liệu cho BTT\n"
          ]
        },
        {
          "name": "stderr",
          "output_type": "stream",
          "text": [
            "[*********************100%%**********************]  1 of 1 completed\n",
            "[*********************100%%**********************]  1 of 1 completed\n",
            "[*********************100%%**********************]  1 of 1 completed\n"
          ]
        },
        {
          "name": "stdout",
          "output_type": "stream",
          "text": [
            "Dữ liệu cho BTT đã được thêm vào DataFrame\n",
            "Đang thu thập dữ liệu cho BVH\n",
            "Dữ liệu cho BVH đã được thêm vào DataFrame\n",
            "Đang thu thập dữ liệu cho BWE\n",
            "Dữ liệu cho BWE đã được thêm vào DataFrame\n",
            "Đang thu thập dữ liệu cho C32\n"
          ]
        },
        {
          "name": "stderr",
          "output_type": "stream",
          "text": [
            "[*********************100%%**********************]  1 of 1 completed\n",
            "[*********************100%%**********************]  1 of 1 completed\n",
            "[*********************100%%**********************]  1 of 1 completed\n"
          ]
        },
        {
          "name": "stdout",
          "output_type": "stream",
          "text": [
            "Dữ liệu cho C32 đã được thêm vào DataFrame\n",
            "Đang thu thập dữ liệu cho C47\n",
            "Dữ liệu cho C47 đã được thêm vào DataFrame\n",
            "Đang thu thập dữ liệu cho CCI\n",
            "Dữ liệu cho CCI đã được thêm vào DataFrame\n",
            "Đang thu thập dữ liệu cho CCL\n"
          ]
        },
        {
          "name": "stderr",
          "output_type": "stream",
          "text": [
            "[*********************100%%**********************]  1 of 1 completed\n",
            "[*********************100%%**********************]  1 of 1 completed\n",
            "[*********************100%%**********************]  1 of 1 completed\n"
          ]
        },
        {
          "name": "stdout",
          "output_type": "stream",
          "text": [
            "Dữ liệu cho CCL đã được thêm vào DataFrame\n",
            "Đang thu thập dữ liệu cho CDC\n",
            "Dữ liệu cho CDC đã được thêm vào DataFrame\n",
            "Đang thu thập dữ liệu cho CHP\n",
            "Dữ liệu cho CHP đã được thêm vào DataFrame\n",
            "Đang thu thập dữ liệu cho CIG\n"
          ]
        },
        {
          "name": "stderr",
          "output_type": "stream",
          "text": [
            "[*********************100%%**********************]  1 of 1 completed\n",
            "[*********************100%%**********************]  1 of 1 completed\n",
            "[*********************100%%**********************]  1 of 1 completed\n"
          ]
        },
        {
          "name": "stdout",
          "output_type": "stream",
          "text": [
            "Dữ liệu cho CIG đã được thêm vào DataFrame\n",
            "Đang thu thập dữ liệu cho CII\n",
            "Dữ liệu cho CII đã được thêm vào DataFrame\n",
            "Đang thu thập dữ liệu cho CKG\n",
            "Dữ liệu cho CKG đã được thêm vào DataFrame\n",
            "Đang thu thập dữ liệu cho CLC\n"
          ]
        },
        {
          "name": "stderr",
          "output_type": "stream",
          "text": [
            "[*********************100%%**********************]  1 of 1 completed\n",
            "[*********************100%%**********************]  1 of 1 completed\n",
            "[*********************100%%**********************]  1 of 1 completed\n"
          ]
        },
        {
          "name": "stdout",
          "output_type": "stream",
          "text": [
            "Dữ liệu cho CLC đã được thêm vào DataFrame\n",
            "Đang thu thập dữ liệu cho CLL\n",
            "Dữ liệu cho CLL đã được thêm vào DataFrame\n",
            "Đang thu thập dữ liệu cho CLW\n",
            "Dữ liệu cho CLW đã được thêm vào DataFrame\n",
            "Đang thu thập dữ liệu cho CMG\n"
          ]
        },
        {
          "name": "stderr",
          "output_type": "stream",
          "text": [
            "[*********************100%%**********************]  1 of 1 completed\n",
            "[*********************100%%**********************]  1 of 1 completed\n",
            "[*********************100%%**********************]  1 of 1 completed\n"
          ]
        },
        {
          "name": "stdout",
          "output_type": "stream",
          "text": [
            "Dữ liệu cho CMG đã được thêm vào DataFrame\n",
            "Đang thu thập dữ liệu cho CMV\n",
            "Dữ liệu cho CMV đã được thêm vào DataFrame\n",
            "Đang thu thập dữ liệu cho CMX\n",
            "Dữ liệu cho CMX đã được thêm vào DataFrame\n",
            "Đang thu thập dữ liệu cho CNG\n"
          ]
        },
        {
          "name": "stderr",
          "output_type": "stream",
          "text": [
            "[*********************100%%**********************]  1 of 1 completed\n",
            "[*********************100%%**********************]  1 of 1 completed\n",
            "[*********************100%%**********************]  1 of 1 completed\n"
          ]
        },
        {
          "name": "stdout",
          "output_type": "stream",
          "text": [
            "Dữ liệu cho CNG đã được thêm vào DataFrame\n",
            "Đang thu thập dữ liệu cho COM\n",
            "Dữ liệu cho COM đã được thêm vào DataFrame\n",
            "Đang thu thập dữ liệu cho CRC\n",
            "Dữ liệu cho CRC đã được thêm vào DataFrame\n",
            "Đang thu thập dữ liệu cho CRE\n"
          ]
        },
        {
          "name": "stderr",
          "output_type": "stream",
          "text": [
            "[*********************100%%**********************]  1 of 1 completed\n",
            "[*********************100%%**********************]  1 of 1 completed\n",
            "[*********************100%%**********************]  1 of 1 completed\n"
          ]
        },
        {
          "name": "stdout",
          "output_type": "stream",
          "text": [
            "Dữ liệu cho CRE đã được thêm vào DataFrame\n",
            "Đang thu thập dữ liệu cho CSM\n",
            "Dữ liệu cho CSM đã được thêm vào DataFrame\n",
            "Đang thu thập dữ liệu cho CSV\n",
            "Dữ liệu cho CSV đã được thêm vào DataFrame\n",
            "Đang thu thập dữ liệu cho CTD\n"
          ]
        },
        {
          "name": "stderr",
          "output_type": "stream",
          "text": [
            "[*********************100%%**********************]  1 of 1 completed\n",
            "[*********************100%%**********************]  1 of 1 completed\n",
            "[*********************100%%**********************]  1 of 1 completed\n"
          ]
        },
        {
          "name": "stdout",
          "output_type": "stream",
          "text": [
            "Dữ liệu cho CTD đã được thêm vào DataFrame\n",
            "Đang thu thập dữ liệu cho CTF\n",
            "Dữ liệu cho CTF đã được thêm vào DataFrame\n",
            "Đang thu thập dữ liệu cho CTG\n",
            "Dữ liệu cho CTG đã được thêm vào DataFrame\n",
            "Đang thu thập dữ liệu cho CTI\n"
          ]
        },
        {
          "name": "stderr",
          "output_type": "stream",
          "text": [
            "[*********************100%%**********************]  1 of 1 completed\n",
            "[*********************100%%**********************]  1 of 1 completed\n",
            "[*********************100%%**********************]  1 of 1 completed\n"
          ]
        },
        {
          "name": "stdout",
          "output_type": "stream",
          "text": [
            "Dữ liệu cho CTI đã được thêm vào DataFrame\n",
            "Đang thu thập dữ liệu cho CTR\n",
            "Dữ liệu cho CTR đã được thêm vào DataFrame\n",
            "Đang thu thập dữ liệu cho CTS\n",
            "Dữ liệu cho CTS đã được thêm vào DataFrame\n",
            "Đang thu thập dữ liệu cho CVT\n"
          ]
        },
        {
          "name": "stderr",
          "output_type": "stream",
          "text": [
            "[*********************100%%**********************]  1 of 1 completed\n",
            "[*********************100%%**********************]  1 of 1 completed\n",
            "[*********************100%%**********************]  1 of 1 completed\n"
          ]
        },
        {
          "name": "stdout",
          "output_type": "stream",
          "text": [
            "Dữ liệu cho CVT đã được thêm vào DataFrame\n",
            "Đang thu thập dữ liệu cho D2D\n",
            "Dữ liệu cho D2D đã được thêm vào DataFrame\n",
            "Đang thu thập dữ liệu cho DAG\n",
            "Dữ liệu cho DAG đã được thêm vào DataFrame\n",
            "Đang thu thập dữ liệu cho DAH\n"
          ]
        },
        {
          "name": "stderr",
          "output_type": "stream",
          "text": [
            "[*********************100%%**********************]  1 of 1 completed\n",
            "[*********************100%%**********************]  1 of 1 completed\n",
            "[*********************100%%**********************]  1 of 1 completed\n"
          ]
        },
        {
          "name": "stdout",
          "output_type": "stream",
          "text": [
            "Dữ liệu cho DAH đã được thêm vào DataFrame\n",
            "Đang thu thập dữ liệu cho DAT\n",
            "Dữ liệu cho DAT đã được thêm vào DataFrame\n",
            "Đang thu thập dữ liệu cho DBC\n",
            "Dữ liệu cho DBC đã được thêm vào DataFrame\n",
            "Đang thu thập dữ liệu cho DBD\n"
          ]
        },
        {
          "name": "stderr",
          "output_type": "stream",
          "text": [
            "[*********************100%%**********************]  1 of 1 completed\n",
            "[*********************100%%**********************]  1 of 1 completed\n",
            "[*********************100%%**********************]  1 of 1 completed\n"
          ]
        },
        {
          "name": "stdout",
          "output_type": "stream",
          "text": [
            "Dữ liệu cho DBD đã được thêm vào DataFrame\n",
            "Đang thu thập dữ liệu cho DBT\n",
            "Dữ liệu cho DBT đã được thêm vào DataFrame\n",
            "Đang thu thập dữ liệu cho DC4\n",
            "Dữ liệu cho DC4 đã được thêm vào DataFrame\n",
            "Đang thu thập dữ liệu cho DCL\n"
          ]
        },
        {
          "name": "stderr",
          "output_type": "stream",
          "text": [
            "[*********************100%%**********************]  1 of 1 completed\n",
            "[*********************100%%**********************]  1 of 1 completed\n",
            "[*********************100%%**********************]  1 of 1 completed\n"
          ]
        },
        {
          "name": "stdout",
          "output_type": "stream",
          "text": [
            "Dữ liệu cho DCL đã được thêm vào DataFrame\n",
            "Đang thu thập dữ liệu cho DCM\n",
            "Dữ liệu cho DCM đã được thêm vào DataFrame\n",
            "Đang thu thập dữ liệu cho DGC\n",
            "Dữ liệu cho DGC đã được thêm vào DataFrame\n",
            "Đang thu thập dữ liệu cho DGW\n"
          ]
        },
        {
          "name": "stderr",
          "output_type": "stream",
          "text": [
            "[*********************100%%**********************]  1 of 1 completed\n",
            "[*********************100%%**********************]  1 of 1 completed\n",
            "[*********************100%%**********************]  1 of 1 completed\n"
          ]
        },
        {
          "name": "stdout",
          "output_type": "stream",
          "text": [
            "Dữ liệu cho DGW đã được thêm vào DataFrame\n",
            "Đang thu thập dữ liệu cho DHA\n",
            "Dữ liệu cho DHA đã được thêm vào DataFrame\n",
            "Đang thu thập dữ liệu cho DHC\n",
            "Dữ liệu cho DHC đã được thêm vào DataFrame\n",
            "Đang thu thập dữ liệu cho DHG\n"
          ]
        },
        {
          "name": "stderr",
          "output_type": "stream",
          "text": [
            "[*********************100%%**********************]  1 of 1 completed\n",
            "[*********************100%%**********************]  1 of 1 completed\n",
            "[*********************100%%**********************]  1 of 1 completed\n"
          ]
        },
        {
          "name": "stdout",
          "output_type": "stream",
          "text": [
            "Dữ liệu cho DHG đã được thêm vào DataFrame\n",
            "Đang thu thập dữ liệu cho DHM\n",
            "Dữ liệu cho DHM đã được thêm vào DataFrame\n",
            "Đang thu thập dữ liệu cho DIG\n",
            "Dữ liệu cho DIG đã được thêm vào DataFrame\n",
            "Đang thu thập dữ liệu cho DLG\n"
          ]
        },
        {
          "name": "stderr",
          "output_type": "stream",
          "text": [
            "[*********************100%%**********************]  1 of 1 completed\n",
            "[*********************100%%**********************]  1 of 1 completed\n",
            "[*********************100%%**********************]  1 of 1 completed\n"
          ]
        },
        {
          "name": "stdout",
          "output_type": "stream",
          "text": [
            "Dữ liệu cho DLG đã được thêm vào DataFrame\n",
            "Đang thu thập dữ liệu cho DMC\n",
            "Dữ liệu cho DMC đã được thêm vào DataFrame\n",
            "Đang thu thập dữ liệu cho DPG\n",
            "Dữ liệu cho DPG đã được thêm vào DataFrame\n",
            "Đang thu thập dữ liệu cho DPM\n"
          ]
        },
        {
          "name": "stderr",
          "output_type": "stream",
          "text": [
            "[*********************100%%**********************]  1 of 1 completed\n",
            "[*********************100%%**********************]  1 of 1 completed\n",
            "[*********************100%%**********************]  1 of 1 completed\n"
          ]
        },
        {
          "name": "stdout",
          "output_type": "stream",
          "text": [
            "Dữ liệu cho DPM đã được thêm vào DataFrame\n",
            "Đang thu thập dữ liệu cho DPR\n",
            "Dữ liệu cho DPR đã được thêm vào DataFrame\n",
            "Đang thu thập dữ liệu cho DQC\n",
            "Dữ liệu cho DQC đã được thêm vào DataFrame\n",
            "Đang thu thập dữ liệu cho DRC\n"
          ]
        },
        {
          "name": "stderr",
          "output_type": "stream",
          "text": [
            "[*********************100%%**********************]  1 of 1 completed\n",
            "[*********************100%%**********************]  1 of 1 completed\n",
            "[*********************100%%**********************]  1 of 1 completed\n"
          ]
        },
        {
          "name": "stdout",
          "output_type": "stream",
          "text": [
            "Dữ liệu cho DRC đã được thêm vào DataFrame\n",
            "Đang thu thập dữ liệu cho DRH\n",
            "Dữ liệu cho DRH đã được thêm vào DataFrame\n",
            "Đang thu thập dữ liệu cho DRL\n",
            "Dữ liệu cho DRL đã được thêm vào DataFrame\n",
            "Đang thu thập dữ liệu cho DSE\n"
          ]
        },
        {
          "name": "stderr",
          "output_type": "stream",
          "text": [
            "[*********************100%%**********************]  1 of 1 completed\n",
            "[*********************100%%**********************]  1 of 1 completed\n",
            "[*********************100%%**********************]  1 of 1 completed\n"
          ]
        },
        {
          "name": "stdout",
          "output_type": "stream",
          "text": [
            "Dữ liệu cho DSE đã được thêm vào DataFrame\n",
            "Đang thu thập dữ liệu cho DSN\n",
            "Dữ liệu cho DSN đã được thêm vào DataFrame\n",
            "Đang thu thập dữ liệu cho DTA\n",
            "Dữ liệu cho DTA đã được thêm vào DataFrame\n",
            "Đang thu thập dữ liệu cho DTL\n"
          ]
        },
        {
          "name": "stderr",
          "output_type": "stream",
          "text": [
            "[*********************100%%**********************]  1 of 1 completed\n",
            "[*********************100%%**********************]  1 of 1 completed\n",
            "[*********************100%%**********************]  1 of 1 completed\n"
          ]
        },
        {
          "name": "stdout",
          "output_type": "stream",
          "text": [
            "Dữ liệu cho DTL đã được thêm vào DataFrame\n",
            "Đang thu thập dữ liệu cho DTT\n",
            "Dữ liệu cho DTT đã được thêm vào DataFrame\n",
            "Đang thu thập dữ liệu cho DVP\n",
            "Dữ liệu cho DVP đã được thêm vào DataFrame\n",
            "Đang thu thập dữ liệu cho DXG\n"
          ]
        },
        {
          "name": "stderr",
          "output_type": "stream",
          "text": [
            "[*********************100%%**********************]  1 of 1 completed\n",
            "[*********************100%%**********************]  1 of 1 completed\n",
            "[*********************100%%**********************]  1 of 1 completed\n"
          ]
        },
        {
          "name": "stdout",
          "output_type": "stream",
          "text": [
            "Dữ liệu cho DXG đã được thêm vào DataFrame\n",
            "Đang thu thập dữ liệu cho DXS\n",
            "Dữ liệu cho DXS đã được thêm vào DataFrame\n",
            "Đang thu thập dữ liệu cho DXV\n",
            "Dữ liệu cho DXV đã được thêm vào DataFrame\n",
            "Đang thu thập dữ liệu cho EIB\n"
          ]
        },
        {
          "name": "stderr",
          "output_type": "stream",
          "text": [
            "[*********************100%%**********************]  1 of 1 completed\n",
            "[*********************100%%**********************]  1 of 1 completed\n",
            "[*********************100%%**********************]  1 of 1 completed\n"
          ]
        },
        {
          "name": "stdout",
          "output_type": "stream",
          "text": [
            "Dữ liệu cho EIB đã được thêm vào DataFrame\n",
            "Đang thu thập dữ liệu cho ELC\n",
            "Dữ liệu cho ELC đã được thêm vào DataFrame\n",
            "Đang thu thập dữ liệu cho EVE\n",
            "Dữ liệu cho EVE đã được thêm vào DataFrame\n",
            "Đang thu thập dữ liệu cho EVF\n"
          ]
        },
        {
          "name": "stderr",
          "output_type": "stream",
          "text": [
            "[*********************100%%**********************]  1 of 1 completed\n",
            "[*********************100%%**********************]  1 of 1 completed\n",
            "[*********************100%%**********************]  1 of 1 completed\n"
          ]
        },
        {
          "name": "stdout",
          "output_type": "stream",
          "text": [
            "Dữ liệu cho EVF đã được thêm vào DataFrame\n",
            "Đang thu thập dữ liệu cho EVG\n",
            "Dữ liệu cho EVG đã được thêm vào DataFrame\n",
            "Đang thu thập dữ liệu cho FCM\n",
            "Dữ liệu cho FCM đã được thêm vào DataFrame\n",
            "Đang thu thập dữ liệu cho FCN\n"
          ]
        },
        {
          "name": "stderr",
          "output_type": "stream",
          "text": [
            "[*********************100%%**********************]  1 of 1 completed\n",
            "[*********************100%%**********************]  1 of 1 completed\n",
            "[*********************100%%**********************]  1 of 1 completed\n"
          ]
        },
        {
          "name": "stdout",
          "output_type": "stream",
          "text": [
            "Dữ liệu cho FCN đã được thêm vào DataFrame\n",
            "Đang thu thập dữ liệu cho FDC\n",
            "Dữ liệu cho FDC đã được thêm vào DataFrame\n",
            "Đang thu thập dữ liệu cho FIR\n",
            "Dữ liệu cho FIR đã được thêm vào DataFrame\n",
            "Đang thu thập dữ liệu cho FIT\n"
          ]
        },
        {
          "name": "stderr",
          "output_type": "stream",
          "text": [
            "[*********************100%%**********************]  1 of 1 completed\n",
            "[*********************100%%**********************]  1 of 1 completed\n",
            "[*********************100%%**********************]  1 of 1 completed\n"
          ]
        },
        {
          "name": "stdout",
          "output_type": "stream",
          "text": [
            "Dữ liệu cho FIT đã được thêm vào DataFrame\n",
            "Đang thu thập dữ liệu cho FMC\n",
            "Dữ liệu cho FMC đã được thêm vào DataFrame\n",
            "Đang thu thập dữ liệu cho FPT\n",
            "Dữ liệu cho FPT đã được thêm vào DataFrame\n",
            "Đang thu thập dữ liệu cho FRT\n"
          ]
        },
        {
          "name": "stderr",
          "output_type": "stream",
          "text": [
            "[*********************100%%**********************]  1 of 1 completed\n",
            "[*********************100%%**********************]  1 of 1 completed\n",
            "[*********************100%%**********************]  1 of 1 completed\n"
          ]
        },
        {
          "name": "stdout",
          "output_type": "stream",
          "text": [
            "Dữ liệu cho FRT đã được thêm vào DataFrame\n",
            "Đang thu thập dữ liệu cho FTS\n",
            "Dữ liệu cho FTS đã được thêm vào DataFrame\n",
            "Đang thu thập dữ liệu cho FUCTVGF3\n",
            "Dữ liệu cho FUCTVGF3 đã được thêm vào DataFrame\n",
            "Đang thu thập dữ liệu cho FUCTVGF4\n"
          ]
        },
        {
          "name": "stderr",
          "output_type": "stream",
          "text": [
            "[*********************100%%**********************]  1 of 1 completed\n",
            "[*********************100%%**********************]  1 of 1 completed\n"
          ]
        },
        {
          "name": "stdout",
          "output_type": "stream",
          "text": [
            "Dữ liệu cho FUCTVGF4 đã được thêm vào DataFrame\n",
            "Đang thu thập dữ liệu cho FUCTVGF5\n",
            "Dữ liệu cho FUCTVGF5 đã được thêm vào DataFrame\n",
            "Đang thu thập dữ liệu cho FUCVREIT\n"
          ]
        },
        {
          "name": "stderr",
          "output_type": "stream",
          "text": [
            "[*********************100%%**********************]  1 of 1 completed\n",
            "[*********************100%%**********************]  1 of 1 completed\n",
            "[*********************100%%**********************]  1 of 1 completed\n"
          ]
        },
        {
          "name": "stdout",
          "output_type": "stream",
          "text": [
            "Dữ liệu cho FUCVREIT đã được thêm vào DataFrame\n",
            "Đang thu thập dữ liệu cho GAS\n",
            "Dữ liệu cho GAS đã được thêm vào DataFrame\n",
            "Đang thu thập dữ liệu cho GDT\n",
            "Dữ liệu cho GDT đã được thêm vào DataFrame\n",
            "Đang thu thập dữ liệu cho GEG\n"
          ]
        },
        {
          "name": "stderr",
          "output_type": "stream",
          "text": [
            "[*********************100%%**********************]  1 of 1 completed\n",
            "[*********************100%%**********************]  1 of 1 completed\n",
            "[*********************100%%**********************]  1 of 1 completed\n"
          ]
        },
        {
          "name": "stdout",
          "output_type": "stream",
          "text": [
            "Dữ liệu cho GEG đã được thêm vào DataFrame\n",
            "Đang thu thập dữ liệu cho GEX\n",
            "Dữ liệu cho GEX đã được thêm vào DataFrame\n",
            "Đang thu thập dữ liệu cho GIL\n",
            "Dữ liệu cho GIL đã được thêm vào DataFrame\n",
            "Đang thu thập dữ liệu cho GMC\n"
          ]
        },
        {
          "name": "stderr",
          "output_type": "stream",
          "text": [
            "[*********************100%%**********************]  1 of 1 completed\n",
            "[*********************100%%**********************]  1 of 1 completed\n",
            "[*********************100%%**********************]  1 of 1 completed\n"
          ]
        },
        {
          "name": "stdout",
          "output_type": "stream",
          "text": [
            "Dữ liệu cho GMC đã được thêm vào DataFrame\n",
            "Đang thu thập dữ liệu cho GMD\n",
            "Dữ liệu cho GMD đã được thêm vào DataFrame\n",
            "Đang thu thập dữ liệu cho GMH\n",
            "Dữ liệu cho GMH đã được thêm vào DataFrame\n",
            "Đang thu thập dữ liệu cho GSP\n"
          ]
        },
        {
          "name": "stderr",
          "output_type": "stream",
          "text": [
            "[*********************100%%**********************]  1 of 1 completed\n",
            "[*********************100%%**********************]  1 of 1 completed\n",
            "[*********************100%%**********************]  1 of 1 completed\n"
          ]
        },
        {
          "name": "stdout",
          "output_type": "stream",
          "text": [
            "Dữ liệu cho GSP đã được thêm vào DataFrame\n",
            "Đang thu thập dữ liệu cho GTA\n",
            "Dữ liệu cho GTA đã được thêm vào DataFrame\n",
            "Đang thu thập dữ liệu cho GVR\n",
            "Dữ liệu cho GVR đã được thêm vào DataFrame\n",
            "Đang thu thập dữ liệu cho HAG\n"
          ]
        },
        {
          "name": "stderr",
          "output_type": "stream",
          "text": [
            "\r[*********************100%%**********************]  1 of 1 completed\n"
          ]
        },
        {
          "name": "stdout",
          "output_type": "stream",
          "text": [
            "Dữ liệu cho HAG đã được thêm vào DataFrame\n",
            "Đang thu thập dữ liệu cho HAH\n"
          ]
        },
        {
          "name": "stderr",
          "output_type": "stream",
          "text": [
            "[*********************100%%**********************]  1 of 1 completed\n",
            "[*********************100%%**********************]  1 of 1 completed\n",
            "[*********************100%%**********************]  1 of 1 completed\n"
          ]
        },
        {
          "name": "stdout",
          "output_type": "stream",
          "text": [
            "Dữ liệu cho HAH đã được thêm vào DataFrame\n",
            "Đang thu thập dữ liệu cho HAP\n",
            "Dữ liệu cho HAP đã được thêm vào DataFrame\n",
            "Đang thu thập dữ liệu cho HAR\n",
            "Dữ liệu cho HAR đã được thêm vào DataFrame\n",
            "Đang thu thập dữ liệu cho HAS\n"
          ]
        },
        {
          "name": "stderr",
          "output_type": "stream",
          "text": [
            "[*********************100%%**********************]  1 of 1 completed\n",
            "[*********************100%%**********************]  1 of 1 completed\n",
            "[*********************100%%**********************]  1 of 1 completed\n"
          ]
        },
        {
          "name": "stdout",
          "output_type": "stream",
          "text": [
            "Dữ liệu cho HAS đã được thêm vào DataFrame\n",
            "Đang thu thập dữ liệu cho HAX\n",
            "Dữ liệu cho HAX đã được thêm vào DataFrame\n",
            "Đang thu thập dữ liệu cho HBC\n",
            "Dữ liệu cho HBC đã được thêm vào DataFrame\n",
            "Đang thu thập dữ liệu cho HCD\n"
          ]
        },
        {
          "name": "stderr",
          "output_type": "stream",
          "text": [
            "[*********************100%%**********************]  1 of 1 completed\n",
            "[*********************100%%**********************]  1 of 1 completed\n"
          ]
        },
        {
          "name": "stdout",
          "output_type": "stream",
          "text": [
            "Dữ liệu cho HCD đã được thêm vào DataFrame\n",
            "Đang thu thập dữ liệu cho HCM\n",
            "Dữ liệu cho HCM đã được thêm vào DataFrame\n",
            "Đang thu thập dữ liệu cho HDB\n"
          ]
        },
        {
          "name": "stderr",
          "output_type": "stream",
          "text": [
            "[*********************100%%**********************]  1 of 1 completed\n",
            "[*********************100%%**********************]  1 of 1 completed\n",
            "[*********************100%%**********************]  1 of 1 completed\n"
          ]
        },
        {
          "name": "stdout",
          "output_type": "stream",
          "text": [
            "Dữ liệu cho HDB đã được thêm vào DataFrame\n",
            "Đang thu thập dữ liệu cho HDC\n",
            "Dữ liệu cho HDC đã được thêm vào DataFrame\n",
            "Đang thu thập dữ liệu cho HDG\n",
            "Dữ liệu cho HDG đã được thêm vào DataFrame"
          ]
        },
        {
          "name": "stderr",
          "output_type": "stream",
          "text": [
            "[*********************100%%**********************]  1 of 1 completed\n",
            "[*********************100%%**********************]  1 of 1 completed\n"
          ]
        },
        {
          "name": "stdout",
          "output_type": "stream",
          "text": [
            "\n",
            "Đang thu thập dữ liệu cho HHP\n",
            "Dữ liệu cho HHP đã được thêm vào DataFrame\n",
            "Đang thu thập dữ liệu cho HHS\n",
            "Dữ liệu cho HHS đã được thêm vào DataFrame\n",
            "Đang thu thập dữ liệu cho HHV\n"
          ]
        },
        {
          "name": "stderr",
          "output_type": "stream",
          "text": [
            "[*********************100%%**********************]  1 of 1 completed\n",
            "[*********************100%%**********************]  1 of 1 completed\n",
            "[*********************100%%**********************]  1 of 1 completed\n"
          ]
        },
        {
          "name": "stdout",
          "output_type": "stream",
          "text": [
            "Dữ liệu cho HHV đã được thêm vào DataFrame\n",
            "Đang thu thập dữ liệu cho HID\n",
            "Dữ liệu cho HID đã được thêm vào DataFrame\n",
            "Đang thu thập dữ liệu cho HII\n",
            "Dữ liệu cho HII đã được thêm vào DataFrame\n",
            "Đang thu thập dữ liệu cho HMC\n"
          ]
        },
        {
          "name": "stderr",
          "output_type": "stream",
          "text": [
            "[*********************100%%**********************]  1 of 1 completed\n",
            "[*********************100%%**********************]  1 of 1 completed\n",
            "[*********************100%%**********************]  1 of 1 completed\n"
          ]
        },
        {
          "name": "stdout",
          "output_type": "stream",
          "text": [
            "Dữ liệu cho HMC đã được thêm vào DataFrame\n",
            "Đang thu thập dữ liệu cho HNA\n",
            "Dữ liệu cho HNA đã được thêm vào DataFrame\n",
            "Đang thu thập dữ liệu cho HNG\n",
            "Dữ liệu cho HNG đã được thêm vào DataFrame\n",
            "Đang thu thập dữ liệu cho HPG\n"
          ]
        },
        {
          "name": "stderr",
          "output_type": "stream",
          "text": [
            "[*********************100%%**********************]  1 of 1 completed\n",
            "[*********************100%%**********************]  1 of 1 completed\n",
            "[*********************100%%**********************]  1 of 1 completed\n"
          ]
        },
        {
          "name": "stdout",
          "output_type": "stream",
          "text": [
            "Dữ liệu cho HPG đã được thêm vào DataFrame\n",
            "Đang thu thập dữ liệu cho HPX\n",
            "Dữ liệu cho HPX đã được thêm vào DataFrame\n",
            "Đang thu thập dữ liệu cho HQC\n",
            "Dữ liệu cho HQC đã được thêm vào DataFrame\n",
            "Đang thu thập dữ liệu cho HRC\n"
          ]
        },
        {
          "name": "stderr",
          "output_type": "stream",
          "text": [
            "[*********************100%%**********************]  1 of 1 completed\n",
            "[*********************100%%**********************]  1 of 1 completed\n",
            "[*********************100%%**********************]  1 of 1 completed\n"
          ]
        },
        {
          "name": "stdout",
          "output_type": "stream",
          "text": [
            "Dữ liệu cho HRC đã được thêm vào DataFrame\n",
            "Đang thu thập dữ liệu cho HSG\n",
            "Dữ liệu cho HSG đã được thêm vào DataFrame\n",
            "Đang thu thập dữ liệu cho HSL\n",
            "Dữ liệu cho HSL đã được thêm vào DataFrame\n",
            "Đang thu thập dữ liệu cho HT1\n"
          ]
        },
        {
          "name": "stderr",
          "output_type": "stream",
          "text": [
            "[*********************100%%**********************]  1 of 1 completed\n",
            "[*********************100%%**********************]  1 of 1 completed\n",
            "[*********************100%%**********************]  1 of 1 completed\n"
          ]
        },
        {
          "name": "stdout",
          "output_type": "stream",
          "text": [
            "Dữ liệu cho HT1 đã được thêm vào DataFrame\n",
            "Đang thu thập dữ liệu cho HTG\n",
            "Dữ liệu cho HTG đã được thêm vào DataFrame\n",
            "Đang thu thập dữ liệu cho HTI\n",
            "Dữ liệu cho HTI đã được thêm vào DataFrame\n",
            "Đang thu thập dữ liệu cho HTL\n"
          ]
        },
        {
          "name": "stderr",
          "output_type": "stream",
          "text": [
            "[*********************100%%**********************]  1 of 1 completed\n",
            "[*********************100%%**********************]  1 of 1 completed\n",
            "[*********************100%%**********************]  1 of 1 completed\n"
          ]
        },
        {
          "name": "stdout",
          "output_type": "stream",
          "text": [
            "Dữ liệu cho HTL đã được thêm vào DataFrame\n",
            "Đang thu thập dữ liệu cho HTN\n",
            "Dữ liệu cho HTN đã được thêm vào DataFrame\n",
            "Đang thu thập dữ liệu cho HTV\n",
            "Dữ liệu cho HTV đã được thêm vào DataFrame\n",
            "Đang thu thập dữ liệu cho HU1\n"
          ]
        },
        {
          "name": "stderr",
          "output_type": "stream",
          "text": [
            "[*********************100%%**********************]  1 of 1 completed\n",
            "[*********************100%%**********************]  1 of 1 completed\n",
            "[*********************100%%**********************]  1 of 1 completed\n"
          ]
        },
        {
          "name": "stdout",
          "output_type": "stream",
          "text": [
            "Dữ liệu cho HU1 đã được thêm vào DataFrame\n",
            "Đang thu thập dữ liệu cho HUB\n",
            "Dữ liệu cho HUB đã được thêm vào DataFrame\n",
            "Đang thu thập dữ liệu cho HVH\n",
            "Dữ liệu cho HVH đã được thêm vào DataFrame\n",
            "Đang thu thập dữ liệu cho HVN\n"
          ]
        },
        {
          "name": "stderr",
          "output_type": "stream",
          "text": [
            "[*********************100%%**********************]  1 of 1 completed\n",
            "[*********************100%%**********************]  1 of 1 completed\n",
            "[*********************100%%**********************]  1 of 1 completed\n"
          ]
        },
        {
          "name": "stdout",
          "output_type": "stream",
          "text": [
            "Dữ liệu cho HVN đã được thêm vào DataFrame\n",
            "Đang thu thập dữ liệu cho HVX\n",
            "Dữ liệu cho HVX đã được thêm vào DataFrame\n",
            "Đang thu thập dữ liệu cho ICT\n",
            "Dữ liệu cho ICT đã được thêm vào DataFrame\n",
            "Đang thu thập dữ liệu cho IDI\n"
          ]
        },
        {
          "name": "stderr",
          "output_type": "stream",
          "text": [
            "[*********************100%%**********************]  1 of 1 completed\n",
            "[*********************100%%**********************]  1 of 1 completed\n",
            "[*********************100%%**********************]  1 of 1 completed\n"
          ]
        },
        {
          "name": "stdout",
          "output_type": "stream",
          "text": [
            "Dữ liệu cho IDI đã được thêm vào DataFrame\n",
            "Đang thu thập dữ liệu cho IJC\n",
            "Dữ liệu cho IJC đã được thêm vào DataFrame\n",
            "Đang thu thập dữ liệu cho ILB\n",
            "Dữ liệu cho ILB đã được thêm vào DataFrame\n",
            "Đang thu thập dữ liệu cho IMP\n"
          ]
        },
        {
          "name": "stderr",
          "output_type": "stream",
          "text": [
            "[*********************100%%**********************]  1 of 1 completed\n",
            "[*********************100%%**********************]  1 of 1 completed\n",
            "[*********************100%%**********************]  1 of 1 completed\n"
          ]
        },
        {
          "name": "stdout",
          "output_type": "stream",
          "text": [
            "Dữ liệu cho IMP đã được thêm vào DataFrame\n",
            "Đang thu thập dữ liệu cho ITA\n",
            "Dữ liệu cho ITA đã được thêm vào DataFrame\n",
            "Đang thu thập dữ liệu cho ITC\n",
            "Dữ liệu cho ITC đã được thêm vào DataFrame\n",
            "Đang thu thập dữ liệu cho ITD\n"
          ]
        },
        {
          "name": "stderr",
          "output_type": "stream",
          "text": [
            "[*********************100%%**********************]  1 of 1 completed\n",
            "[*********************100%%**********************]  1 of 1 completed\n",
            "[*********************100%%**********************]  1 of 1 completed\n"
          ]
        },
        {
          "name": "stdout",
          "output_type": "stream",
          "text": [
            "Dữ liệu cho ITD đã được thêm vào DataFrame\n",
            "Đang thu thập dữ liệu cho JVC\n",
            "Dữ liệu cho JVC đã được thêm vào DataFrame\n",
            "Đang thu thập dữ liệu cho KBC\n",
            "Dữ liệu cho KBC đã được thêm vào DataFrame\n",
            "Đang thu thập dữ liệu cho KDC\n"
          ]
        },
        {
          "name": "stderr",
          "output_type": "stream",
          "text": [
            "[*********************100%%**********************]  1 of 1 completed\n",
            "[*********************100%%**********************]  1 of 1 completed\n",
            "[*********************100%%**********************]  1 of 1 completed\n"
          ]
        },
        {
          "name": "stdout",
          "output_type": "stream",
          "text": [
            "Dữ liệu cho KDC đã được thêm vào DataFrame\n",
            "Đang thu thập dữ liệu cho KDH\n",
            "Dữ liệu cho KDH đã được thêm vào DataFrame\n",
            "Đang thu thập dữ liệu cho KHG\n",
            "Dữ liệu cho KHG đã được thêm vào DataFrame\n",
            "Đang thu thập dữ liệu cho KHP\n"
          ]
        },
        {
          "name": "stderr",
          "output_type": "stream",
          "text": [
            "[*********************100%%**********************]  1 of 1 completed\n",
            "[*********************100%%**********************]  1 of 1 completed\n",
            "[*********************100%%**********************]  1 of 1 completed\n"
          ]
        },
        {
          "name": "stdout",
          "output_type": "stream",
          "text": [
            "Dữ liệu cho KHP đã được thêm vào DataFrame\n",
            "Đang thu thập dữ liệu cho KMR\n",
            "Dữ liệu cho KMR đã được thêm vào DataFrame\n",
            "Đang thu thập dữ liệu cho KOS\n",
            "Dữ liệu cho KOS đã được thêm vào DataFrame\n",
            "Đang thu thập dữ liệu cho KPF\n"
          ]
        },
        {
          "name": "stderr",
          "output_type": "stream",
          "text": [
            "[*********************100%%**********************]  1 of 1 completed\n",
            "[*********************100%%**********************]  1 of 1 completed\n",
            "[*********************100%%**********************]  1 of 1 completed\n"
          ]
        },
        {
          "name": "stdout",
          "output_type": "stream",
          "text": [
            "Dữ liệu cho KPF đã được thêm vào DataFrame\n",
            "Đang thu thập dữ liệu cho KSB\n",
            "Dữ liệu cho KSB đã được thêm vào DataFrame\n",
            "Đang thu thập dữ liệu cho L10\n",
            "Dữ liệu cho L10 đã được thêm vào DataFrame\n",
            "Đang thu thập dữ liệu cho LAF\n"
          ]
        },
        {
          "name": "stderr",
          "output_type": "stream",
          "text": [
            "[*********************100%%**********************]  1 of 1 completed\n",
            "[*********************100%%**********************]  1 of 1 completed\n",
            "[*********************100%%**********************]  1 of 1 completed\n"
          ]
        },
        {
          "name": "stdout",
          "output_type": "stream",
          "text": [
            "Dữ liệu cho LAF đã được thêm vào DataFrame\n",
            "Đang thu thập dữ liệu cho LBM\n",
            "Dữ liệu cho LBM đã được thêm vào DataFrame\n",
            "Đang thu thập dữ liệu cho LCG\n",
            "Dữ liệu cho LCG đã được thêm vào DataFrame\n",
            "Đang thu thập dữ liệu cho LDG\n"
          ]
        },
        {
          "name": "stderr",
          "output_type": "stream",
          "text": [
            "[*********************100%%**********************]  1 of 1 completed\n",
            "[*********************100%%**********************]  1 of 1 completed\n",
            "[*********************100%%**********************]  1 of 1 completed\n"
          ]
        },
        {
          "name": "stdout",
          "output_type": "stream",
          "text": [
            "Dữ liệu cho LDG đã được thêm vào DataFrame\n",
            "Đang thu thập dữ liệu cho LEC\n",
            "Dữ liệu cho LEC đã được thêm vào DataFrame\n",
            "Đang thu thập dữ liệu cho LGC\n",
            "Dữ liệu cho LGC đã được thêm vào DataFrame\n",
            "Đang thu thập dữ liệu cho LGL\n"
          ]
        },
        {
          "name": "stderr",
          "output_type": "stream",
          "text": [
            "[*********************100%%**********************]  1 of 1 completed\n",
            "[*********************100%%**********************]  1 of 1 completed\n",
            "[*********************100%%**********************]  1 of 1 completed\n"
          ]
        },
        {
          "name": "stdout",
          "output_type": "stream",
          "text": [
            "Dữ liệu cho LGL đã được thêm vào DataFrame\n",
            "Đang thu thập dữ liệu cho LHG\n",
            "Dữ liệu cho LHG đã được thêm vào DataFrame\n",
            "Đang thu thập dữ liệu cho LIX\n",
            "Dữ liệu cho LIX đã được thêm vào DataFrame\n",
            "Đang thu thập dữ liệu cho LM8\n"
          ]
        },
        {
          "name": "stderr",
          "output_type": "stream",
          "text": [
            "[*********************100%%**********************]  1 of 1 completed\n",
            "[*********************100%%**********************]  1 of 1 completed\n",
            "[*********************100%%**********************]  1 of 1 completed\n"
          ]
        },
        {
          "name": "stdout",
          "output_type": "stream",
          "text": [
            "Dữ liệu cho LM8 đã được thêm vào DataFrame\n",
            "Đang thu thập dữ liệu cho LPB\n",
            "Dữ liệu cho LPB đã được thêm vào DataFrame\n",
            "Đang thu thập dữ liệu cho LSS\n",
            "Dữ liệu cho LSS đã được thêm vào DataFrame\n",
            "Đang thu thập dữ liệu cho MBB\n"
          ]
        },
        {
          "name": "stderr",
          "output_type": "stream",
          "text": [
            "[*********************100%%**********************]  1 of 1 completed\n",
            "[*********************100%%**********************]  1 of 1 completed\n",
            "[*********************100%%**********************]  1 of 1 completed\n"
          ]
        },
        {
          "name": "stdout",
          "output_type": "stream",
          "text": [
            "Dữ liệu cho MBB đã được thêm vào DataFrame\n",
            "Đang thu thập dữ liệu cho MCM\n",
            "Dữ liệu cho MCM đã được thêm vào DataFrame\n",
            "Đang thu thập dữ liệu cho MCP\n",
            "Dữ liệu cho MCP đã được thêm vào DataFrame\n",
            "Đang thu thập dữ liệu cho MDG\n"
          ]
        },
        {
          "name": "stderr",
          "output_type": "stream",
          "text": [
            "[*********************100%%**********************]  1 of 1 completed\n",
            "[*********************100%%**********************]  1 of 1 completed\n",
            "[*********************100%%**********************]  1 of 1 completed\n"
          ]
        },
        {
          "name": "stdout",
          "output_type": "stream",
          "text": [
            "Dữ liệu cho MDG đã được thêm vào DataFrame\n",
            "Đang thu thập dữ liệu cho MHC\n",
            "Dữ liệu cho MHC đã được thêm vào DataFrame\n",
            "Đang thu thập dữ liệu cho MIG\n",
            "Dữ liệu cho MIG đã được thêm vào DataFrame\n",
            "Đang thu thập dữ liệu cho MSB\n"
          ]
        },
        {
          "name": "stderr",
          "output_type": "stream",
          "text": [
            "[*********************100%%**********************]  1 of 1 completed\n",
            "[*********************100%%**********************]  1 of 1 completed\n",
            "[*********************100%%**********************]  1 of 1 completed\n"
          ]
        },
        {
          "name": "stdout",
          "output_type": "stream",
          "text": [
            "Dữ liệu cho MSB đã được thêm vào DataFrame\n",
            "Đang thu thập dữ liệu cho MSH\n",
            "Dữ liệu cho MSH đã được thêm vào DataFrame\n",
            "Đang thu thập dữ liệu cho MSN\n",
            "Dữ liệu cho MSN đã được thêm vào DataFrame\n",
            "Đang thu thập dữ liệu cho MWG\n"
          ]
        },
        {
          "name": "stderr",
          "output_type": "stream",
          "text": [
            "[*********************100%%**********************]  1 of 1 completed\n",
            "[*********************100%%**********************]  1 of 1 completed\n",
            "[*********************100%%**********************]  1 of 1 completed\n"
          ]
        },
        {
          "name": "stdout",
          "output_type": "stream",
          "text": [
            "Dữ liệu cho MWG đã được thêm vào DataFrame\n",
            "Đang thu thập dữ liệu cho NAB\n",
            "Dữ liệu cho NAB đã được thêm vào DataFrame\n",
            "Đang thu thập dữ liệu cho NAF\n",
            "Dữ liệu cho NAF đã được thêm vào DataFrame\n",
            "Đang thu thập dữ liệu cho NAV\n"
          ]
        },
        {
          "name": "stderr",
          "output_type": "stream",
          "text": [
            "[*********************100%%**********************]  1 of 1 completed\n",
            "[*********************100%%**********************]  1 of 1 completed\n"
          ]
        },
        {
          "name": "stdout",
          "output_type": "stream",
          "text": [
            "Dữ liệu cho NAV đã được thêm vào DataFrame\n",
            "Đang thu thập dữ liệu cho NBB\n",
            "Dữ liệu cho NBB đã được thêm vào DataFrame\n",
            "Đang thu thập dữ liệu cho NCT\n"
          ]
        },
        {
          "name": "stderr",
          "output_type": "stream",
          "text": [
            "[*********************100%%**********************]  1 of 1 completed\n",
            "[*********************100%%**********************]  1 of 1 completed\n",
            "[*********************100%%**********************]  1 of 1 completed\n"
          ]
        },
        {
          "name": "stdout",
          "output_type": "stream",
          "text": [
            "Dữ liệu cho NCT đã được thêm vào DataFrame\n",
            "Đang thu thập dữ liệu cho NHA\n",
            "Dữ liệu cho NHA đã được thêm vào DataFrame\n",
            "Đang thu thập dữ liệu cho NHH\n",
            "Dữ liệu cho NHH đã được thêm vào DataFrame\n",
            "Đang thu thập dữ liệu cho NHT\n"
          ]
        },
        {
          "name": "stderr",
          "output_type": "stream",
          "text": [
            "[*********************100%%**********************]  1 of 1 completed\n",
            "[*********************100%%**********************]  1 of 1 completed\n",
            "[*********************100%%**********************]  1 of 1 completed\n"
          ]
        },
        {
          "name": "stdout",
          "output_type": "stream",
          "text": [
            "Dữ liệu cho NHT đã được thêm vào DataFrame\n",
            "Đang thu thập dữ liệu cho NKG\n",
            "Dữ liệu cho NKG đã được thêm vào DataFrame\n",
            "Đang thu thập dữ liệu cho NLG\n",
            "Dữ liệu cho NLG đã được thêm vào DataFrame\n",
            "Đang thu thập dữ liệu cho NNC\n"
          ]
        },
        {
          "name": "stderr",
          "output_type": "stream",
          "text": [
            "[*********************100%%**********************]  1 of 1 completed\n",
            "[*********************100%%**********************]  1 of 1 completed\n",
            "[*********************100%%**********************]  1 of 1 completed\n"
          ]
        },
        {
          "name": "stdout",
          "output_type": "stream",
          "text": [
            "Dữ liệu cho NNC đã được thêm vào DataFrame\n",
            "Đang thu thập dữ liệu cho NO1\n",
            "Dữ liệu cho NO1 đã được thêm vào DataFrame\n",
            "Đang thu thập dữ liệu cho NSC\n",
            "Dữ liệu cho NSC đã được thêm vào DataFrame\n",
            "Đang thu thập dữ liệu cho NT2\n"
          ]
        },
        {
          "name": "stderr",
          "output_type": "stream",
          "text": [
            "[*********************100%%**********************]  1 of 1 completed\n",
            "[*********************100%%**********************]  1 of 1 completed\n",
            "[*********************100%%**********************]  1 of 1 completed\n"
          ]
        },
        {
          "name": "stdout",
          "output_type": "stream",
          "text": [
            "Dữ liệu cho NT2 đã được thêm vào DataFrame\n",
            "Đang thu thập dữ liệu cho NTL\n",
            "Dữ liệu cho NTL đã được thêm vào DataFrame\n",
            "Đang thu thập dữ liệu cho NVL\n",
            "Dữ liệu cho NVL đã được thêm vào DataFrame\n",
            "Đang thu thập dữ liệu cho NVT\n"
          ]
        },
        {
          "name": "stderr",
          "output_type": "stream",
          "text": [
            "[*********************100%%**********************]  1 of 1 completed\n",
            "[*********************100%%**********************]  1 of 1 completed\n",
            "[*********************100%%**********************]  1 of 1 completed\n"
          ]
        },
        {
          "name": "stdout",
          "output_type": "stream",
          "text": [
            "Dữ liệu cho NVT đã được thêm vào DataFrame\n",
            "Đang thu thập dữ liệu cho OCB\n",
            "Dữ liệu cho OCB đã được thêm vào DataFrame\n",
            "Đang thu thập dữ liệu cho OGC\n",
            "Dữ liệu cho OGC đã được thêm vào DataFrame\n",
            "Đang thu thập dữ liệu cho OPC\n"
          ]
        },
        {
          "name": "stderr",
          "output_type": "stream",
          "text": [
            "[*********************100%%**********************]  1 of 1 completed\n",
            "[*********************100%%**********************]  1 of 1 completed\n",
            "[*********************100%%**********************]  1 of 1 completed\n"
          ]
        },
        {
          "name": "stdout",
          "output_type": "stream",
          "text": [
            "Dữ liệu cho OPC đã được thêm vào DataFrame\n",
            "Đang thu thập dữ liệu cho ORS\n",
            "Dữ liệu cho ORS đã được thêm vào DataFrame\n",
            "Đang thu thập dữ liệu cho PAC\n",
            "Dữ liệu cho PAC đã được thêm vào DataFrame\n",
            "Đang thu thập dữ liệu cho PAN\n"
          ]
        },
        {
          "name": "stderr",
          "output_type": "stream",
          "text": [
            "[*********************100%%**********************]  1 of 1 completed\n",
            "[*********************100%%**********************]  1 of 1 completed\n",
            "[*********************100%%**********************]  1 of 1 completed\n"
          ]
        },
        {
          "name": "stdout",
          "output_type": "stream",
          "text": [
            "Dữ liệu cho PAN đã được thêm vào DataFrame\n",
            "Đang thu thập dữ liệu cho PC1\n",
            "Dữ liệu cho PC1 đã được thêm vào DataFrame\n",
            "Đang thu thập dữ liệu cho PDN\n",
            "Dữ liệu cho PDN đã được thêm vào DataFrame\n",
            "Đang thu thập dữ liệu cho PDR\n"
          ]
        },
        {
          "name": "stderr",
          "output_type": "stream",
          "text": [
            "[*********************100%%**********************]  1 of 1 completed\n",
            "[*********************100%%**********************]  1 of 1 completed\n",
            "[*********************100%%**********************]  1 of 1 completed\n"
          ]
        },
        {
          "name": "stdout",
          "output_type": "stream",
          "text": [
            "Dữ liệu cho PDR đã được thêm vào DataFrame\n",
            "Đang thu thập dữ liệu cho PET\n",
            "Dữ liệu cho PET đã được thêm vào DataFrame\n",
            "Đang thu thập dữ liệu cho PGC\n",
            "Dữ liệu cho PGC đã được thêm vào DataFrame\n",
            "Đang thu thập dữ liệu cho PGD\n"
          ]
        },
        {
          "name": "stderr",
          "output_type": "stream",
          "text": [
            "[*********************100%%**********************]  1 of 1 completed\n",
            "[*********************100%%**********************]  1 of 1 completed\n",
            "[*********************100%%**********************]  1 of 1 completed\n"
          ]
        },
        {
          "name": "stdout",
          "output_type": "stream",
          "text": [
            "Dữ liệu cho PGD đã được thêm vào DataFrame\n",
            "Đang thu thập dữ liệu cho PGI\n",
            "Dữ liệu cho PGI đã được thêm vào DataFrame\n",
            "Đang thu thập dữ liệu cho PGV\n",
            "Dữ liệu cho PGV đã được thêm vào DataFrame\n",
            "Đang thu thập dữ liệu cho PHC\n"
          ]
        },
        {
          "name": "stderr",
          "output_type": "stream",
          "text": [
            "[*********************100%%**********************]  1 of 1 completed\n",
            "[*********************100%%**********************]  1 of 1 completed\n",
            "[*********************100%%**********************]  1 of 1 completed\n"
          ]
        },
        {
          "name": "stdout",
          "output_type": "stream",
          "text": [
            "Dữ liệu cho PHC đã được thêm vào DataFrame\n",
            "Đang thu thập dữ liệu cho PHR\n",
            "Dữ liệu cho PHR đã được thêm vào DataFrame\n",
            "Đang thu thập dữ liệu cho PIT\n",
            "Dữ liệu cho PIT đã được thêm vào DataFrame\n",
            "Đang thu thập dữ liệu cho PJT\n"
          ]
        },
        {
          "name": "stderr",
          "output_type": "stream",
          "text": [
            "[*********************100%%**********************]  1 of 1 completed\n",
            "[*********************100%%**********************]  1 of 1 completed\n",
            "[*********************100%%**********************]  1 of 1 completed\n"
          ]
        },
        {
          "name": "stdout",
          "output_type": "stream",
          "text": [
            "Dữ liệu cho PJT đã được thêm vào DataFrame\n",
            "Đang thu thập dữ liệu cho PLP\n",
            "Dữ liệu cho PLP đã được thêm vào DataFrame\n",
            "Đang thu thập dữ liệu cho PLX\n",
            "Dữ liệu cho PLX đã được thêm vào DataFrame\n",
            "Đang thu thập dữ liệu cho PMG\n"
          ]
        },
        {
          "name": "stderr",
          "output_type": "stream",
          "text": [
            "[*********************100%%**********************]  1 of 1 completed\n",
            "[*********************100%%**********************]  1 of 1 completed\n",
            "[*********************100%%**********************]  1 of 1 completed\n"
          ]
        },
        {
          "name": "stdout",
          "output_type": "stream",
          "text": [
            "Dữ liệu cho PMG đã được thêm vào DataFrame\n",
            "Đang thu thập dữ liệu cho PNC\n",
            "Dữ liệu cho PNC đã được thêm vào DataFrame\n",
            "Đang thu thập dữ liệu cho PNJ\n",
            "Dữ liệu cho PNJ đã được thêm vào DataFrame\n",
            "Đang thu thập dữ liệu cho POW\n"
          ]
        },
        {
          "name": "stderr",
          "output_type": "stream",
          "text": [
            "[*********************100%%**********************]  1 of 1 completed\n",
            "[*********************100%%**********************]  1 of 1 completed\n",
            "[*********************100%%**********************]  1 of 1 completed\n"
          ]
        },
        {
          "name": "stdout",
          "output_type": "stream",
          "text": [
            "Dữ liệu cho POW đã được thêm vào DataFrame\n",
            "Đang thu thập dữ liệu cho PPC\n",
            "Dữ liệu cho PPC đã được thêm vào DataFrame\n",
            "Đang thu thập dữ liệu cho PSH\n",
            "Dữ liệu cho PSH đã được thêm vào DataFrame\n",
            "Đang thu thập dữ liệu cho PTB\n"
          ]
        },
        {
          "name": "stderr",
          "output_type": "stream",
          "text": [
            "[*********************100%%**********************]  1 of 1 completed\n",
            "[*********************100%%**********************]  1 of 1 completed\n",
            "[*********************100%%**********************]  1 of 1 completed\n"
          ]
        },
        {
          "name": "stdout",
          "output_type": "stream",
          "text": [
            "Dữ liệu cho PTB đã được thêm vào DataFrame\n",
            "Đang thu thập dữ liệu cho PTC\n",
            "Dữ liệu cho PTC đã được thêm vào DataFrame\n",
            "Đang thu thập dữ liệu cho PTL\n",
            "Dữ liệu cho PTL đã được thêm vào DataFrame\n",
            "Đang thu thập dữ liệu cho PVD\n"
          ]
        },
        {
          "name": "stderr",
          "output_type": "stream",
          "text": [
            "[*********************100%%**********************]  1 of 1 completed\n",
            "[*********************100%%**********************]  1 of 1 completed\n",
            "[*********************100%%**********************]  1 of 1 completed\n"
          ]
        },
        {
          "name": "stdout",
          "output_type": "stream",
          "text": [
            "Dữ liệu cho PVD đã được thêm vào DataFrame\n",
            "Đang thu thập dữ liệu cho PVP\n",
            "Dữ liệu cho PVP đã được thêm vào DataFrame\n",
            "Đang thu thập dữ liệu cho PVT\n",
            "Dữ liệu cho PVT đã được thêm vào DataFrame\n",
            "Đang thu thập dữ liệu cho QCG\n"
          ]
        },
        {
          "name": "stderr",
          "output_type": "stream",
          "text": [
            "[*********************100%%**********************]  1 of 1 completed\n",
            "[*********************100%%**********************]  1 of 1 completed\n",
            "[*********************100%%**********************]  1 of 1 completed\n"
          ]
        },
        {
          "name": "stdout",
          "output_type": "stream",
          "text": [
            "Dữ liệu cho QCG đã được thêm vào DataFrame\n",
            "Đang thu thập dữ liệu cho QNP\n",
            "Dữ liệu cho QNP đã được thêm vào DataFrame\n",
            "Đang thu thập dữ liệu cho RAL\n",
            "Dữ liệu cho RAL đã được thêm vào DataFrame\n",
            "Đang thu thập dữ liệu cho RDP\n"
          ]
        },
        {
          "name": "stderr",
          "output_type": "stream",
          "text": [
            "[*********************100%%**********************]  1 of 1 completed\n",
            "[*********************100%%**********************]  1 of 1 completed\n",
            "[*********************100%%**********************]  1 of 1 completed\n"
          ]
        },
        {
          "name": "stdout",
          "output_type": "stream",
          "text": [
            "Dữ liệu cho RDP đã được thêm vào DataFrame\n",
            "Đang thu thập dữ liệu cho REE\n",
            "Dữ liệu cho REE đã được thêm vào DataFrame\n",
            "Đang thu thập dữ liệu cho S4A\n",
            "Dữ liệu cho S4A đã được thêm vào DataFrame\n",
            "Đang thu thập dữ liệu cho SAB\n"
          ]
        },
        {
          "name": "stderr",
          "output_type": "stream",
          "text": [
            "[*********************100%%**********************]  1 of 1 completed\n",
            "[*********************100%%**********************]  1 of 1 completed\n",
            "[*********************100%%**********************]  1 of 1 completed\n"
          ]
        },
        {
          "name": "stdout",
          "output_type": "stream",
          "text": [
            "Dữ liệu cho SAB đã được thêm vào DataFrame\n",
            "Đang thu thập dữ liệu cho SAM\n",
            "Dữ liệu cho SAM đã được thêm vào DataFrame\n",
            "Đang thu thập dữ liệu cho SAV\n",
            "Dữ liệu cho SAV đã được thêm vào DataFrame\n",
            "Đang thu thập dữ liệu cho SBA\n"
          ]
        },
        {
          "name": "stderr",
          "output_type": "stream",
          "text": [
            "[*********************100%%**********************]  1 of 1 completed\n",
            "[*********************100%%**********************]  1 of 1 completed\n",
            "[*********************100%%**********************]  1 of 1 completed\n"
          ]
        },
        {
          "name": "stdout",
          "output_type": "stream",
          "text": [
            "Dữ liệu cho SBA đã được thêm vào DataFrame\n",
            "Đang thu thập dữ liệu cho SBG\n",
            "Dữ liệu cho SBG đã được thêm vào DataFrame\n",
            "Đang thu thập dữ liệu cho SBT\n",
            "Dữ liệu cho SBT đã được thêm vào DataFrame\n",
            "Đang thu thập dữ liệu cho SBV\n"
          ]
        },
        {
          "name": "stderr",
          "output_type": "stream",
          "text": [
            "[*********************100%%**********************]  1 of 1 completed\n",
            "[*********************100%%**********************]  1 of 1 completed\n",
            "[*********************100%%**********************]  1 of 1 completed\n"
          ]
        },
        {
          "name": "stdout",
          "output_type": "stream",
          "text": [
            "Dữ liệu cho SBV đã được thêm vào DataFrame\n",
            "Đang thu thập dữ liệu cho SC5\n",
            "Dữ liệu cho SC5 đã được thêm vào DataFrame\n",
            "Đang thu thập dữ liệu cho SCR\n",
            "Dữ liệu cho SCR đã được thêm vào DataFrame\n",
            "Đang thu thập dữ liệu cho SCS\n"
          ]
        },
        {
          "name": "stderr",
          "output_type": "stream",
          "text": [
            "[*********************100%%**********************]  1 of 1 completed\n",
            "[*********************100%%**********************]  1 of 1 completed\n",
            "[*********************100%%**********************]  1 of 1 completed\n"
          ]
        },
        {
          "name": "stdout",
          "output_type": "stream",
          "text": [
            "Dữ liệu cho SCS đã được thêm vào DataFrame\n",
            "Đang thu thập dữ liệu cho SFC\n",
            "Dữ liệu cho SFC đã được thêm vào DataFrame\n",
            "Đang thu thập dữ liệu cho SFG\n",
            "Dữ liệu cho SFG đã được thêm vào DataFrame\n",
            "Đang thu thập dữ liệu cho SFI\n"
          ]
        },
        {
          "name": "stderr",
          "output_type": "stream",
          "text": [
            "[*********************100%%**********************]  1 of 1 completed\n",
            "[*********************100%%**********************]  1 of 1 completed\n",
            "[*********************100%%**********************]  1 of 1 completed\n"
          ]
        },
        {
          "name": "stdout",
          "output_type": "stream",
          "text": [
            "Dữ liệu cho SFI đã được thêm vào DataFrame\n",
            "Đang thu thập dữ liệu cho SGN\n",
            "Dữ liệu cho SGN đã được thêm vào DataFrame\n",
            "Đang thu thập dữ liệu cho SGR\n",
            "Dữ liệu cho SGR đã được thêm vào DataFrame\n",
            "Đang thu thập dữ liệu cho SGT\n"
          ]
        },
        {
          "name": "stderr",
          "output_type": "stream",
          "text": [
            "[*********************100%%**********************]  1 of 1 completed\n",
            "[*********************100%%**********************]  1 of 1 completed\n",
            "[*********************100%%**********************]  1 of 1 completed\n"
          ]
        },
        {
          "name": "stdout",
          "output_type": "stream",
          "text": [
            "Dữ liệu cho SGT đã được thêm vào DataFrame\n",
            "Đang thu thập dữ liệu cho SHA\n",
            "Dữ liệu cho SHA đã được thêm vào DataFrame\n",
            "Đang thu thập dữ liệu cho SHB\n",
            "Dữ liệu cho SHB đã được thêm vào DataFrame\n",
            "Đang thu thập dữ liệu cho SHI\n"
          ]
        },
        {
          "name": "stderr",
          "output_type": "stream",
          "text": [
            "[*********************100%%**********************]  1 of 1 completed\n",
            "[*********************100%%**********************]  1 of 1 completed\n",
            "[*********************100%%**********************]  1 of 1 completed\n"
          ]
        },
        {
          "name": "stdout",
          "output_type": "stream",
          "text": [
            "Dữ liệu cho SHI đã được thêm vào DataFrame\n",
            "Đang thu thập dữ liệu cho SHP\n",
            "Dữ liệu cho SHP đã được thêm vào DataFrame\n",
            "Đang thu thập dữ liệu cho SIP\n",
            "Dữ liệu cho SIP đã được thêm vào DataFrame\n",
            "Đang thu thập dữ liệu cho SJD\n"
          ]
        },
        {
          "name": "stderr",
          "output_type": "stream",
          "text": [
            "[*********************100%%**********************]  1 of 1 completed\n",
            "[*********************100%%**********************]  1 of 1 completed\n",
            "[*********************100%%**********************]  1 of 1 completed\n"
          ]
        },
        {
          "name": "stdout",
          "output_type": "stream",
          "text": [
            "Dữ liệu cho SJD đã được thêm vào DataFrame\n",
            "Đang thu thập dữ liệu cho SJF\n",
            "Dữ liệu cho SJF đã được thêm vào DataFrame\n",
            "Đang thu thập dữ liệu cho SJS\n",
            "Dữ liệu cho SJS đã được thêm vào DataFrame\n",
            "Đang thu thập dữ liệu cho SKG\n"
          ]
        },
        {
          "name": "stderr",
          "output_type": "stream",
          "text": [
            "[*********************100%%**********************]  1 of 1 completed\n",
            "[*********************100%%**********************]  1 of 1 completed\n",
            "[*********************100%%**********************]  1 of 1 completed\n"
          ]
        },
        {
          "name": "stdout",
          "output_type": "stream",
          "text": [
            "Dữ liệu cho SKG đã được thêm vào DataFrame\n",
            "Đang thu thập dữ liệu cho SMA\n",
            "Dữ liệu cho SMA đã được thêm vào DataFrame\n",
            "Đang thu thập dữ liệu cho SMB\n",
            "Dữ liệu cho SMB đã được thêm vào DataFrame\n",
            "Đang thu thập dữ liệu cho SMC\n"
          ]
        },
        {
          "name": "stderr",
          "output_type": "stream",
          "text": [
            "[*********************100%%**********************]  1 of 1 completed\n",
            "[*********************100%%**********************]  1 of 1 completed\n",
            "[*********************100%%**********************]  1 of 1 completed\n"
          ]
        },
        {
          "name": "stdout",
          "output_type": "stream",
          "text": [
            "Dữ liệu cho SMC đã được thêm vào DataFrame\n",
            "Đang thu thập dữ liệu cho SPM\n",
            "Dữ liệu cho SPM đã được thêm vào DataFrame\n",
            "Đang thu thập dữ liệu cho SRC\n",
            "Dữ liệu cho SRC đã được thêm vào DataFrame\n",
            "Đang thu thập dữ liệu cho SRF\n"
          ]
        },
        {
          "name": "stderr",
          "output_type": "stream",
          "text": [
            "[*********************100%%**********************]  1 of 1 completed\n",
            "[*********************100%%**********************]  1 of 1 completed\n",
            "[*********************100%%**********************]  1 of 1 completed\n"
          ]
        },
        {
          "name": "stdout",
          "output_type": "stream",
          "text": [
            "Dữ liệu cho SRF đã được thêm vào DataFrame\n",
            "Đang thu thập dữ liệu cho SSB\n",
            "Dữ liệu cho SSB đã được thêm vào DataFrame\n",
            "Đang thu thập dữ liệu cho SSC\n",
            "Dữ liệu cho SSC đã được thêm vào DataFrame\n",
            "Đang thu thập dữ liệu cho SSI\n"
          ]
        },
        {
          "name": "stderr",
          "output_type": "stream",
          "text": [
            "[*********************100%%**********************]  1 of 1 completed\n",
            "[*********************100%%**********************]  1 of 1 completed\n",
            "[*********************100%%**********************]  1 of 1 completed\n"
          ]
        },
        {
          "name": "stdout",
          "output_type": "stream",
          "text": [
            "Dữ liệu cho SSI đã được thêm vào DataFrame\n",
            "Đang thu thập dữ liệu cho ST8\n",
            "Dữ liệu cho ST8 đã được thêm vào DataFrame\n",
            "Đang thu thập dữ liệu cho STB\n",
            "Dữ liệu cho STB đã được thêm vào DataFrame\n",
            "Đang thu thập dữ liệu cho STG\n"
          ]
        },
        {
          "name": "stderr",
          "output_type": "stream",
          "text": [
            "[*********************100%%**********************]  1 of 1 completed\n",
            "[*********************100%%**********************]  1 of 1 completed\n",
            "[*********************100%%**********************]  1 of 1 completed\n"
          ]
        },
        {
          "name": "stdout",
          "output_type": "stream",
          "text": [
            "Dữ liệu cho STG đã được thêm vào DataFrame\n",
            "Đang thu thập dữ liệu cho STK\n",
            "Dữ liệu cho STK đã được thêm vào DataFrame\n",
            "Đang thu thập dữ liệu cho SVC\n",
            "Dữ liệu cho SVC đã được thêm vào DataFrame\n",
            "Đang thu thập dữ liệu cho SVD\n"
          ]
        },
        {
          "name": "stderr",
          "output_type": "stream",
          "text": [
            "[*********************100%%**********************]  1 of 1 completed\n",
            "[*********************100%%**********************]  1 of 1 completed\n",
            "[*********************100%%**********************]  1 of 1 completed\n"
          ]
        },
        {
          "name": "stdout",
          "output_type": "stream",
          "text": [
            "Dữ liệu cho SVD đã được thêm vào DataFrame\n",
            "Đang thu thập dữ liệu cho SVI\n",
            "Dữ liệu cho SVI đã được thêm vào DataFrame\n",
            "Đang thu thập dữ liệu cho SVT\n",
            "Dữ liệu cho SVT đã được thêm vào DataFrame\n",
            "Đang thu thập dữ liệu cho SZC\n"
          ]
        },
        {
          "name": "stderr",
          "output_type": "stream",
          "text": [
            "[*********************100%%**********************]  1 of 1 completed\n",
            "[*********************100%%**********************]  1 of 1 completed\n",
            "[*********************100%%**********************]  1 of 1 completed\n"
          ]
        },
        {
          "name": "stdout",
          "output_type": "stream",
          "text": [
            "Dữ liệu cho SZC đã được thêm vào DataFrame\n",
            "Đang thu thập dữ liệu cho SZL\n",
            "Dữ liệu cho SZL đã được thêm vào DataFrame\n",
            "Đang thu thập dữ liệu cho TBC\n",
            "Dữ liệu cho TBC đã được thêm vào DataFrame\n",
            "Đang thu thập dữ liệu cho TCB\n"
          ]
        },
        {
          "name": "stderr",
          "output_type": "stream",
          "text": [
            "[*********************100%%**********************]  1 of 1 completed\n",
            "[*********************100%%**********************]  1 of 1 completed\n",
            "[*********************100%%**********************]  1 of 1 completed\n"
          ]
        },
        {
          "name": "stdout",
          "output_type": "stream",
          "text": [
            "Dữ liệu cho TCB đã được thêm vào DataFrame\n",
            "Đang thu thập dữ liệu cho TCD\n",
            "Dữ liệu cho TCD đã được thêm vào DataFrame\n",
            "Đang thu thập dữ liệu cho TCH\n",
            "Dữ liệu cho TCH đã được thêm vào DataFrame\n",
            "Đang thu thập dữ liệu cho TCI\n"
          ]
        },
        {
          "name": "stderr",
          "output_type": "stream",
          "text": [
            "[*********************100%%**********************]  1 of 1 completed\n",
            "[*********************100%%**********************]  1 of 1 completed\n",
            "[*********************100%%**********************]  1 of 1 completed"
          ]
        },
        {
          "name": "stdout",
          "output_type": "stream",
          "text": [
            "Dữ liệu cho TCI đã được thêm vào DataFrame\n",
            "Đang thu thập dữ liệu cho TCL\n",
            "Dữ liệu cho TCL đã được thêm vào DataFrame\n",
            "Đang thu thập dữ liệu cho TCM\n"
          ]
        },
        {
          "name": "stderr",
          "output_type": "stream",
          "text": [
            "\n",
            "[*********************100%%**********************]  1 of 1 completed\n",
            "[*********************100%%**********************]  1 of 1 completed\n"
          ]
        },
        {
          "name": "stdout",
          "output_type": "stream",
          "text": [
            "Dữ liệu cho TCM đã được thêm vào DataFrame\n",
            "Đang thu thập dữ liệu cho TCO\n",
            "Dữ liệu cho TCO đã được thêm vào DataFrame\n",
            "Đang thu thập dữ liệu cho TCR\n",
            "Dữ liệu cho TCR đã được thêm vào DataFrame\n",
            "Đang thu thập dữ liệu cho TCT\n"
          ]
        },
        {
          "name": "stderr",
          "output_type": "stream",
          "text": [
            "[*********************100%%**********************]  1 of 1 completed\n",
            "[*********************100%%**********************]  1 of 1 completed\n"
          ]
        },
        {
          "name": "stdout",
          "output_type": "stream",
          "text": [
            "Dữ liệu cho TCT đã được thêm vào DataFrame\n",
            "Đang thu thập dữ liệu cho TDC\n",
            "Dữ liệu cho TDC đã được thêm vào DataFrame\n",
            "Đang thu thập dữ liệu cho TDG\n"
          ]
        },
        {
          "name": "stderr",
          "output_type": "stream",
          "text": [
            "[*********************100%%**********************]  1 of 1 completed\n",
            "[*********************100%%**********************]  1 of 1 completed\n",
            "[*********************100%%**********************]  1 of 1 completed\n"
          ]
        },
        {
          "name": "stdout",
          "output_type": "stream",
          "text": [
            "Dữ liệu cho TDG đã được thêm vào DataFrame\n",
            "Đang thu thập dữ liệu cho TDH\n",
            "Dữ liệu cho TDH đã được thêm vào DataFrame\n",
            "Đang thu thập dữ liệu cho TDM\n",
            "Dữ liệu cho TDM đã được thêm vào DataFrame\n",
            "Đang thu thập dữ liệu cho TDP\n"
          ]
        },
        {
          "name": "stderr",
          "output_type": "stream",
          "text": [
            "[*********************100%%**********************]  1 of 1 completed\n",
            "[*********************100%%**********************]  1 of 1 completed\n",
            "[*********************100%%**********************]  1 of 1 completed\n"
          ]
        },
        {
          "name": "stdout",
          "output_type": "stream",
          "text": [
            "Dữ liệu cho TDP đã được thêm vào DataFrame\n",
            "Đang thu thập dữ liệu cho TDW\n",
            "Dữ liệu cho TDW đã được thêm vào DataFrame\n",
            "Đang thu thập dữ liệu cho TEG\n",
            "Dữ liệu cho TEG đã được thêm vào DataFrame\n",
            "Đang thu thập dữ liệu cho THG\n"
          ]
        },
        {
          "name": "stderr",
          "output_type": "stream",
          "text": [
            "[*********************100%%**********************]  1 of 1 completed\n",
            "[*********************100%%**********************]  1 of 1 completed\n",
            "[*********************100%%**********************]  1 of 1 completed\n"
          ]
        },
        {
          "name": "stdout",
          "output_type": "stream",
          "text": [
            "Dữ liệu cho THG đã được thêm vào DataFrame\n",
            "Đang thu thập dữ liệu cho TIP\n",
            "Dữ liệu cho TIP đã được thêm vào DataFrame\n",
            "Đang thu thập dữ liệu cho TIX\n",
            "Dữ liệu cho TIX đã được thêm vào DataFrame\n",
            "Đang thu thập dữ liệu cho TLD\n"
          ]
        },
        {
          "name": "stderr",
          "output_type": "stream",
          "text": [
            "[*********************100%%**********************]  1 of 1 completed\n",
            "[*********************100%%**********************]  1 of 1 completed\n",
            "[*********************100%%**********************]  1 of 1 completed\n"
          ]
        },
        {
          "name": "stdout",
          "output_type": "stream",
          "text": [
            "Dữ liệu cho TLD đã được thêm vào DataFrame\n",
            "Đang thu thập dữ liệu cho TLG\n",
            "Dữ liệu cho TLG đã được thêm vào DataFrame\n",
            "Đang thu thập dữ liệu cho TLH\n",
            "Dữ liệu cho TLH đã được thêm vào DataFrame\n",
            "Đang thu thập dữ liệu cho TMP\n"
          ]
        },
        {
          "name": "stderr",
          "output_type": "stream",
          "text": [
            "[*********************100%%**********************]  1 of 1 completed\n",
            "[*********************100%%**********************]  1 of 1 completed\n",
            "[*********************100%%**********************]  1 of 1 completed\n"
          ]
        },
        {
          "name": "stdout",
          "output_type": "stream",
          "text": [
            "Dữ liệu cho TMP đã được thêm vào DataFrame\n",
            "Đang thu thập dữ liệu cho TMS\n",
            "Dữ liệu cho TMS đã được thêm vào DataFrame\n",
            "Đang thu thập dữ liệu cho TMT\n",
            "Dữ liệu cho TMT đã được thêm vào DataFrame\n",
            "Đang thu thập dữ liệu cho TN1\n"
          ]
        },
        {
          "name": "stderr",
          "output_type": "stream",
          "text": [
            "[*********************100%%**********************]  1 of 1 completed\n",
            "[*********************100%%**********************]  1 of 1 completed\n",
            "[*********************100%%**********************]  1 of 1 completed\n"
          ]
        },
        {
          "name": "stdout",
          "output_type": "stream",
          "text": [
            "Dữ liệu cho TN1 đã được thêm vào DataFrame\n",
            "Đang thu thập dữ liệu cho TNA\n",
            "Dữ liệu cho TNA đã được thêm vào DataFrame\n",
            "Đang thu thập dữ liệu cho TNC\n",
            "Dữ liệu cho TNC đã được thêm vào DataFrame\n",
            "Đang thu thập dữ liệu cho TNH\n"
          ]
        },
        {
          "name": "stderr",
          "output_type": "stream",
          "text": [
            "[*********************100%%**********************]  1 of 1 completed\n",
            "[*********************100%%**********************]  1 of 1 completed\n",
            "[*********************100%%**********************]  1 of 1 completed\n"
          ]
        },
        {
          "name": "stdout",
          "output_type": "stream",
          "text": [
            "Dữ liệu cho TNH đã được thêm vào DataFrame\n",
            "Đang thu thập dữ liệu cho TNI\n",
            "Dữ liệu cho TNI đã được thêm vào DataFrame\n",
            "Đang thu thập dữ liệu cho TNT\n",
            "Dữ liệu cho TNT đã được thêm vào DataFrame\n",
            "Đang thu thập dữ liệu cho TPB\n"
          ]
        },
        {
          "name": "stderr",
          "output_type": "stream",
          "text": [
            "[*********************100%%**********************]  1 of 1 completed\n",
            "[*********************100%%**********************]  1 of 1 completed\n",
            "[*********************100%%**********************]  1 of 1 completed\n"
          ]
        },
        {
          "name": "stdout",
          "output_type": "stream",
          "text": [
            "Dữ liệu cho TPB đã được thêm vào DataFrame\n",
            "Đang thu thập dữ liệu cho TPC\n",
            "Dữ liệu cho TPC đã được thêm vào DataFrame\n",
            "Đang thu thập dữ liệu cho TRA\n",
            "Dữ liệu cho TRA đã được thêm vào DataFrame\n",
            "Đang thu thập dữ liệu cho TRC\n"
          ]
        },
        {
          "name": "stderr",
          "output_type": "stream",
          "text": [
            "[*********************100%%**********************]  1 of 1 completed\n",
            "[*********************100%%**********************]  1 of 1 completed\n",
            "[*********************100%%**********************]  1 of 1 completed\n"
          ]
        },
        {
          "name": "stdout",
          "output_type": "stream",
          "text": [
            "Dữ liệu cho TRC đã được thêm vào DataFrame\n",
            "Đang thu thập dữ liệu cho TSC\n",
            "Dữ liệu cho TSC đã được thêm vào DataFrame\n",
            "Đang thu thập dữ liệu cho TTA\n",
            "Dữ liệu cho TTA đã được thêm vào DataFrame\n",
            "Đang thu thập dữ liệu cho TTE\n"
          ]
        },
        {
          "name": "stderr",
          "output_type": "stream",
          "text": [
            "[*********************100%%**********************]  1 of 1 completed\n",
            "[*********************100%%**********************]  1 of 1 completed\n",
            "[*********************100%%**********************]  1 of 1 completed\n"
          ]
        },
        {
          "name": "stdout",
          "output_type": "stream",
          "text": [
            "Dữ liệu cho TTE đã được thêm vào DataFrame\n",
            "Đang thu thập dữ liệu cho TTF\n",
            "Dữ liệu cho TTF đã được thêm vào DataFrame\n",
            "Đang thu thập dữ liệu cho TV2\n",
            "Dữ liệu cho TV2 đã được thêm vào DataFrame\n",
            "Đang thu thập dữ liệu cho TVB\n"
          ]
        },
        {
          "name": "stderr",
          "output_type": "stream",
          "text": [
            "[*********************100%%**********************]  1 of 1 completed\n",
            "[*********************100%%**********************]  1 of 1 completed\n",
            "[*********************100%%**********************]  1 of 1 completed\n"
          ]
        },
        {
          "name": "stdout",
          "output_type": "stream",
          "text": [
            "Dữ liệu cho TVB đã được thêm vào DataFrame\n",
            "Đang thu thập dữ liệu cho TVS\n",
            "Dữ liệu cho TVS đã được thêm vào DataFrame\n",
            "Đang thu thập dữ liệu cho TVT\n",
            "Dữ liệu cho TVT đã được thêm vào DataFrame\n",
            "Đang thu thập dữ liệu cho TYA\n"
          ]
        },
        {
          "name": "stderr",
          "output_type": "stream",
          "text": [
            "[*********************100%%**********************]  1 of 1 completed\n",
            "[*********************100%%**********************]  1 of 1 completed\n",
            "[*********************100%%**********************]  1 of 1 completed\n"
          ]
        },
        {
          "name": "stdout",
          "output_type": "stream",
          "text": [
            "Dữ liệu cho TYA đã được thêm vào DataFrame\n",
            "Đang thu thập dữ liệu cho UIC\n",
            "Dữ liệu cho UIC đã được thêm vào DataFrame\n",
            "Đang thu thập dữ liệu cho VAF\n",
            "Dữ liệu cho VAF đã được thêm vào DataFrame\n",
            "Đang thu thập dữ liệu cho VCA\n"
          ]
        },
        {
          "name": "stderr",
          "output_type": "stream",
          "text": [
            "[*********************100%%**********************]  1 of 1 completed\n",
            "[*********************100%%**********************]  1 of 1 completed\n",
            "[*********************100%%**********************]  1 of 1 completed\n"
          ]
        },
        {
          "name": "stdout",
          "output_type": "stream",
          "text": [
            "Dữ liệu cho VCA đã được thêm vào DataFrame\n",
            "Đang thu thập dữ liệu cho VCB\n",
            "Dữ liệu cho VCB đã được thêm vào DataFrame\n",
            "Đang thu thập dữ liệu cho VCF\n",
            "Dữ liệu cho VCF đã được thêm vào DataFrame\n",
            "Đang thu thập dữ liệu cho VCG\n"
          ]
        },
        {
          "name": "stderr",
          "output_type": "stream",
          "text": [
            "[*********************100%%**********************]  1 of 1 completed\n",
            "[*********************100%%**********************]  1 of 1 completed\n",
            "[*********************100%%**********************]  1 of 1 completed\n"
          ]
        },
        {
          "name": "stdout",
          "output_type": "stream",
          "text": [
            "Dữ liệu cho VCG đã được thêm vào DataFrame\n",
            "Đang thu thập dữ liệu cho VCI\n",
            "Dữ liệu cho VCI đã được thêm vào DataFrame\n",
            "Đang thu thập dữ liệu cho VDP\n",
            "Dữ liệu cho VDP đã được thêm vào DataFrame\n",
            "Đang thu thập dữ liệu cho VDS\n"
          ]
        },
        {
          "name": "stderr",
          "output_type": "stream",
          "text": [
            "[*********************100%%**********************]  1 of 1 completed\n",
            "[*********************100%%**********************]  1 of 1 completed\n",
            "[*********************100%%**********************]  1 of 1 completed\n"
          ]
        },
        {
          "name": "stdout",
          "output_type": "stream",
          "text": [
            "Dữ liệu cho VDS đã được thêm vào DataFrame\n",
            "Đang thu thập dữ liệu cho VFG\n",
            "Dữ liệu cho VFG đã được thêm vào DataFrame\n",
            "Đang thu thập dữ liệu cho VGC\n",
            "Dữ liệu cho VGC đã được thêm vào DataFrame\n",
            "Đang thu thập dữ liệu cho VHC\n"
          ]
        },
        {
          "name": "stderr",
          "output_type": "stream",
          "text": [
            "[*********************100%%**********************]  1 of 1 completed\n",
            "[*********************100%%**********************]  1 of 1 completed\n",
            "[*********************100%%**********************]  1 of 1 completed\n"
          ]
        },
        {
          "name": "stdout",
          "output_type": "stream",
          "text": [
            "Dữ liệu cho VHC đã được thêm vào DataFrame\n",
            "Đang thu thập dữ liệu cho VHM\n",
            "Dữ liệu cho VHM đã được thêm vào DataFrame\n",
            "Đang thu thập dữ liệu cho VIB\n",
            "Dữ liệu cho VIB đã được thêm vào DataFrame\n",
            "Đang thu thập dữ liệu cho VIC\n"
          ]
        },
        {
          "name": "stderr",
          "output_type": "stream",
          "text": [
            "[*********************100%%**********************]  1 of 1 completed\n",
            "[*********************100%%**********************]  1 of 1 completed\n",
            "[*********************100%%**********************]  1 of 1 completed\n"
          ]
        },
        {
          "name": "stdout",
          "output_type": "stream",
          "text": [
            "Dữ liệu cho VIC đã được thêm vào DataFrame\n",
            "Đang thu thập dữ liệu cho VID\n",
            "Dữ liệu cho VID đã được thêm vào DataFrame\n",
            "Đang thu thập dữ liệu cho VIP\n",
            "Dữ liệu cho VIP đã được thêm vào DataFrame\n",
            "Đang thu thập dữ liệu cho VIX\n"
          ]
        },
        {
          "name": "stderr",
          "output_type": "stream",
          "text": [
            "[*********************100%%**********************]  1 of 1 completed\n",
            "[*********************100%%**********************]  1 of 1 completed\n",
            "[*********************100%%**********************]  1 of 1 completed\n"
          ]
        },
        {
          "name": "stdout",
          "output_type": "stream",
          "text": [
            "Dữ liệu cho VIX đã được thêm vào DataFrame\n",
            "Đang thu thập dữ liệu cho VJC\n",
            "Dữ liệu cho VJC đã được thêm vào DataFrame\n",
            "Đang thu thập dữ liệu cho VMD\n",
            "Dữ liệu cho VMD đã được thêm vào DataFrame\n",
            "Đang thu thập dữ liệu cho VND\n"
          ]
        },
        {
          "name": "stderr",
          "output_type": "stream",
          "text": [
            "[*********************100%%**********************]  1 of 1 completed\n",
            "[*********************100%%**********************]  1 of 1 completed\n",
            "[*********************100%%**********************]  1 of 1 completed\n"
          ]
        },
        {
          "name": "stdout",
          "output_type": "stream",
          "text": [
            "Dữ liệu cho VND đã được thêm vào DataFrame\n",
            "Đang thu thập dữ liệu cho VNE\n",
            "Dữ liệu cho VNE đã được thêm vào DataFrame\n",
            "Đang thu thập dữ liệu cho VNG\n",
            "Dữ liệu cho VNG đã được thêm vào DataFrame\n",
            "Đang thu thập dữ liệu cho VNL\n"
          ]
        },
        {
          "name": "stderr",
          "output_type": "stream",
          "text": [
            "[*********************100%%**********************]  1 of 1 completed\n",
            "[*********************100%%**********************]  1 of 1 completed\n",
            "[*********************100%%**********************]  1 of 1 completed\n"
          ]
        },
        {
          "name": "stdout",
          "output_type": "stream",
          "text": [
            "Dữ liệu cho VNL đã được thêm vào DataFrame\n",
            "Đang thu thập dữ liệu cho VNM\n",
            "Dữ liệu cho VNM đã được thêm vào DataFrame\n",
            "Đang thu thập dữ liệu cho VNS\n",
            "Dữ liệu cho VNS đã được thêm vào DataFrame\n",
            "Đang thu thập dữ liệu cho VOS\n"
          ]
        },
        {
          "name": "stderr",
          "output_type": "stream",
          "text": [
            "[*********************100%%**********************]  1 of 1 completed\n",
            "[*********************100%%**********************]  1 of 1 completed\n",
            "[*********************100%%**********************]  1 of 1 completed\n"
          ]
        },
        {
          "name": "stdout",
          "output_type": "stream",
          "text": [
            "Dữ liệu cho VOS đã được thêm vào DataFrame\n",
            "Đang thu thập dữ liệu cho VPB\n",
            "Dữ liệu cho VPB đã được thêm vào DataFrame\n",
            "Đang thu thập dữ liệu cho VPD\n",
            "Dữ liệu cho VPD đã được thêm vào DataFrame\n",
            "Đang thu thập dữ liệu cho VPG\n"
          ]
        },
        {
          "name": "stderr",
          "output_type": "stream",
          "text": [
            "[*********************100%%**********************]  1 of 1 completed\n",
            "[*********************100%%**********************]  1 of 1 completed\n",
            "[*********************100%%**********************]  1 of 1 completed\n"
          ]
        },
        {
          "name": "stdout",
          "output_type": "stream",
          "text": [
            "Dữ liệu cho VPG đã được thêm vào DataFrame\n",
            "Đang thu thập dữ liệu cho VPH\n",
            "Dữ liệu cho VPH đã được thêm vào DataFrame\n",
            "Đang thu thập dữ liệu cho VPI\n",
            "Dữ liệu cho VPI đã được thêm vào DataFrame\n",
            "Đang thu thập dữ liệu cho VPS\n"
          ]
        },
        {
          "name": "stderr",
          "output_type": "stream",
          "text": [
            "[*********************100%%**********************]  1 of 1 completed\n",
            "[*********************100%%**********************]  1 of 1 completed\n",
            "[*********************100%%**********************]  1 of 1 completed\n"
          ]
        },
        {
          "name": "stdout",
          "output_type": "stream",
          "text": [
            "Dữ liệu cho VPS đã được thêm vào DataFrame\n",
            "Đang thu thập dữ liệu cho VRC\n",
            "Dữ liệu cho VRC đã được thêm vào DataFrame\n",
            "Đang thu thập dữ liệu cho VRE\n",
            "Dữ liệu cho VRE đã được thêm vào DataFrame\n",
            "Đang thu thập dữ liệu cho VSC\n"
          ]
        },
        {
          "name": "stderr",
          "output_type": "stream",
          "text": [
            "[*********************100%%**********************]  1 of 1 completed\n",
            "[*********************100%%**********************]  1 of 1 completed\n",
            "[*********************100%%**********************]  1 of 1 completed\n"
          ]
        },
        {
          "name": "stdout",
          "output_type": "stream",
          "text": [
            "Dữ liệu cho VSC đã được thêm vào DataFrame\n",
            "Đang thu thập dữ liệu cho VSH\n",
            "Dữ liệu cho VSH đã được thêm vào DataFrame\n",
            "Đang thu thập dữ liệu cho VSI\n",
            "Dữ liệu cho VSI đã được thêm vào DataFrame\n",
            "Đang thu thập dữ liệu cho VTB\n"
          ]
        },
        {
          "name": "stderr",
          "output_type": "stream",
          "text": [
            "[*********************100%%**********************]  1 of 1 completed\n",
            "[*********************100%%**********************]  1 of 1 completed\n",
            "[*********************100%%**********************]  1 of 1 completed\n"
          ]
        },
        {
          "name": "stdout",
          "output_type": "stream",
          "text": [
            "Dữ liệu cho VTB đã được thêm vào DataFrame\n",
            "Đang thu thập dữ liệu cho VTO\n",
            "Dữ liệu cho VTO đã được thêm vào DataFrame\n",
            "Đang thu thập dữ liệu cho VTP\n",
            "Dữ liệu cho VTP đã được thêm vào DataFrame\n",
            "Đang thu thập dữ liệu cho YBM\n"
          ]
        },
        {
          "name": "stderr",
          "output_type": "stream",
          "text": [
            "[*********************100%%**********************]  1 of 1 completed\n",
            "[*********************100%%**********************]  1 of 1 completed\n"
          ]
        },
        {
          "name": "stdout",
          "output_type": "stream",
          "text": [
            "Dữ liệu cho YBM đã được thêm vào DataFrame\n",
            "Đang thu thập dữ liệu cho YEG\n",
            "Dữ liệu cho YEG đã được thêm vào DataFrame\n",
            "               Open     High      Low    Close    Volume Ticker\n",
            "DTYYYYMMDD                                                     \n",
            "20240701    11050.0  11250.0  11000.0  11200.0   2053100    AAA\n",
            "20240702    11200.0  11500.0  11150.0  11300.0   3734100    AAA\n",
            "20240703    11400.0  11550.0  11300.0  11500.0   3246700    AAA\n",
            "20240704    11500.0  11600.0  11300.0  11400.0   2116600    AAA\n",
            "20240705    11400.0  11900.0  11400.0  11650.0  11375600    AAA\n"
          ]
        }
      ],
      "source": [
        "# Lấy danh sách mã cổ phiếu cần thu thập\n",
        "ma_ck_list = df['Mã CK'].unique()\n",
        "\n",
        "start = \"2024-07-01\"\n",
        "end  = dt.datetime.now().strftime(\"%Y-%m-%d\")\n",
        "\n",
        "all_data = pd.DataFrame()\n",
        "\n",
        "# Lặp qua từng mã cổ phiếu và thu thập dữ liệu\n",
        "for ma_ck in ma_ck_list:\n",
        "    company = f\"{ma_ck}.VN\"\n",
        "    print(f\"Đang thu thập dữ liệu cho {ma_ck}\")\n",
        "    data = yf.download(company, start=start, end=end)\n",
        "\n",
        "    data['Ticker'] = ma_ck\n",
        "\n",
        "    data.index = data.index.strftime('%Y%m%d')\n",
        "    data.index.name = 'DTYYYYMMDD'\n",
        "\n",
        "    data = data.drop(columns=['Adj Close'])\n",
        "\n",
        "    all_data = pd.concat([all_data, data])\n",
        "\n",
        "    print(f\"Dữ liệu cho {ma_ck} đã được thêm vào DataFrame\")\n",
        "\n",
        "print(all_data.head())\n",
        "\n",
        "# Lưu DataFrame chung vào file CSV\n",
        "all_data.to_csv('all_stock_data.csv')\n"
      ]
    },
    {
      "cell_type": "markdown",
      "metadata": {
        "id": "rY3O6QMWDokH"
      },
      "source": [
        "# Mục mới"
      ]
    },
    {
      "cell_type": "code",
      "execution_count": null,
      "metadata": {
        "id": "qE6uUHL4DpYW"
      },
      "outputs": [],
      "source": [
        "from google.colab import drive\n",
        "drive.mount('/content/drive')"
      ]
    }
  ],
  "metadata": {
    "colab": {
      "provenance": []
    },
    "kernelspec": {
      "display_name": "Python 3",
      "language": "python",
      "name": "python3"
    },
    "language_info": {
      "codemirror_mode": {
        "name": "ipython",
        "version": 3
      },
      "file_extension": ".py",
      "mimetype": "text/x-python",
      "name": "python",
      "nbconvert_exporter": "python",
      "pygments_lexer": "ipython3",
      "version": "3.12.5"
    }
  },
  "nbformat": 4,
  "nbformat_minor": 0
}
